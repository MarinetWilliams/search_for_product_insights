{
 "cells": [
  {
   "cell_type": "markdown",
   "id": "738fcbae",
   "metadata": {},
   "source": [
    "Дата: 14.09.2025\n",
    "\n",
    "Автор: Воротницкая Мария"
   ]
  },
  {
   "cell_type": "markdown",
   "id": "cd31b396",
   "metadata": {
    "id": "cd31b396"
   },
   "source": [
    "## 1. Загрузка данных и их предобработка\n",
    "\n",
    "Загрузите данные и получите первую информацию о них. Проведите необходимую предобработку. Основную информацию о данных и этапы предобработки зафиксируйте в кратком промежуточном выводе."
   ]
  },
  {
   "cell_type": "code",
   "execution_count": 1,
   "id": "95c67de5",
   "metadata": {},
   "outputs": [],
   "source": [
    "# Загрузка необходимых библиотек\n",
    "import pandas as pd\n",
    "import seaborn as sns\n",
    "import matplotlib.pyplot as plt\n",
    "import numpy as np\n",
    "from sklearn.preprocessing import StandardScaler\n",
    "from sklearn.cluster import KMeans\n",
    "import matplotlib.pyplot as plt"
   ]
  },
  {
   "cell_type": "code",
   "execution_count": 2,
   "id": "c18f9a14",
   "metadata": {
    "scrolled": false
   },
   "outputs": [
    {
     "name": "stdout",
     "output_type": "stream",
     "text": [
      "<class 'pandas.core.frame.DataFrame'>\n",
      "RangeIndex: 205510 entries, 0 to 205509\n",
      "Data columns (total 15 columns):\n",
      " #   Column        Non-Null Count   Dtype  \n",
      "---  ------        --------------   -----  \n",
      " 0   visitor_uuid  205510 non-null  object \n",
      " 1   user_id       205510 non-null  float64\n",
      " 2   device_type   205510 non-null  object \n",
      " 3   city_id       205510 non-null  int64  \n",
      " 4   source        205510 non-null  object \n",
      " 5   first_date    205510 non-null  object \n",
      " 6   visit_id      205510 non-null  int64  \n",
      " 7   event         205510 non-null  object \n",
      " 8   datetime      205510 non-null  object \n",
      " 9   rest_id       166915 non-null  object \n",
      " 10  object_id     21308 non-null   float64\n",
      " 11  order_id      7008 non-null    float64\n",
      " 12  revenue       7008 non-null    float64\n",
      " 13  delivery      7008 non-null    float64\n",
      " 14  commission    21308 non-null   float64\n",
      "dtypes: float64(6), int64(2), object(7)\n",
      "memory usage: 23.5+ MB\n"
     ]
    }
   ],
   "source": [
    "# Путь к датасетам\n",
    "data = pd.read_csv('https://code.s3.yandex.net/datasets/insides_data.csv')\n",
    "\n",
    "# Общая информация\n",
    "data_info = data.info()"
   ]
  },
  {
   "cell_type": "markdown",
   "id": "6316ef1e",
   "metadata": {},
   "source": [
    "Из полученных данных видно следующее: в датасете всего 205510 строк и 15 столбцов. В столбцах visitor_uuid, device_type, city_id, source, event не наблюдаются пропуски или неверные типы данных, однако стоит на всякий случай убедиться, что visitor_uuid может быть строкой по данным. Столбец user_id заполнен полностью, но хранится как float64 (видимо, из-за NaN при экспорте), скорее всего стоит привести к Int64. В столбцах first_date и datetime нужно изменить тип данных со строки на временной.\n",
    "\n",
    "Столбцы rest_id (166915), object_id (21308), order_id, revenue, delivery (7008), commission (21308) только частично заполнены, стоит проследить взаимосвязь пропусков. Также проверим данный датасет на наличие дубликатов и аномалий."
   ]
  },
  {
   "cell_type": "code",
   "execution_count": 3,
   "id": "3e3e1953",
   "metadata": {},
   "outputs": [],
   "source": [
    "#Преобразуем даты\n",
    "data['first_date'] = pd.to_datetime(data['first_date'])\n",
    "data['datetime'] = pd.to_datetime(data['datetime'])\n",
    "\n",
    "data['user_id'] = data['user_id'].astype('Int64')\n",
    "data['order_id'] = data['order_id'].astype('Int64')"
   ]
  },
  {
   "cell_type": "code",
   "execution_count": 4,
   "id": "d5dc8ccb",
   "metadata": {},
   "outputs": [
    {
     "data": {
      "text/html": [
       "<div>\n",
       "<style scoped>\n",
       "    .dataframe tbody tr th:only-of-type {\n",
       "        vertical-align: middle;\n",
       "    }\n",
       "\n",
       "    .dataframe tbody tr th {\n",
       "        vertical-align: top;\n",
       "    }\n",
       "\n",
       "    .dataframe thead th {\n",
       "        text-align: right;\n",
       "    }\n",
       "</style>\n",
       "<table border=\"1\" class=\"dataframe\">\n",
       "  <thead>\n",
       "    <tr style=\"text-align: right;\">\n",
       "      <th></th>\n",
       "      <th>visitor_uuid</th>\n",
       "      <th>user_id</th>\n",
       "      <th>device_type</th>\n",
       "      <th>city_id</th>\n",
       "      <th>source</th>\n",
       "      <th>first_date</th>\n",
       "      <th>visit_id</th>\n",
       "      <th>event</th>\n",
       "      <th>datetime</th>\n",
       "      <th>rest_id</th>\n",
       "      <th>object_id</th>\n",
       "      <th>order_id</th>\n",
       "      <th>revenue</th>\n",
       "      <th>delivery</th>\n",
       "      <th>commission</th>\n",
       "    </tr>\n",
       "  </thead>\n",
       "  <tbody>\n",
       "    <tr>\n",
       "      <th>0</th>\n",
       "      <td>01b5da38-3022-48ff-87c0-5519247fef1b</td>\n",
       "      <td>567317</td>\n",
       "      <td>Desktop</td>\n",
       "      <td>6</td>\n",
       "      <td>Source_B</td>\n",
       "      <td>2021-05-01</td>\n",
       "      <td>171481813</td>\n",
       "      <td>authorization</td>\n",
       "      <td>2021-05-01 16:07:53</td>\n",
       "      <td>NaN</td>\n",
       "      <td>NaN</td>\n",
       "      <td>&lt;NA&gt;</td>\n",
       "      <td>NaN</td>\n",
       "      <td>NaN</td>\n",
       "      <td>NaN</td>\n",
       "    </tr>\n",
       "    <tr>\n",
       "      <th>1</th>\n",
       "      <td>01b5da38-3022-48ff-87c0-5519247fef1b</td>\n",
       "      <td>567317</td>\n",
       "      <td>Desktop</td>\n",
       "      <td>6</td>\n",
       "      <td>Source_B</td>\n",
       "      <td>2021-05-01</td>\n",
       "      <td>171481813</td>\n",
       "      <td>reg_page</td>\n",
       "      <td>2021-05-01 16:09:16</td>\n",
       "      <td>NaN</td>\n",
       "      <td>NaN</td>\n",
       "      <td>&lt;NA&gt;</td>\n",
       "      <td>NaN</td>\n",
       "      <td>NaN</td>\n",
       "      <td>NaN</td>\n",
       "    </tr>\n",
       "    <tr>\n",
       "      <th>2</th>\n",
       "      <td>01b5da38-3022-48ff-87c0-5519247fef1b</td>\n",
       "      <td>567317</td>\n",
       "      <td>Desktop</td>\n",
       "      <td>6</td>\n",
       "      <td>Source_B</td>\n",
       "      <td>2021-05-01</td>\n",
       "      <td>171481813</td>\n",
       "      <td>confirm_phone</td>\n",
       "      <td>2021-05-01 16:09:19</td>\n",
       "      <td>NaN</td>\n",
       "      <td>NaN</td>\n",
       "      <td>&lt;NA&gt;</td>\n",
       "      <td>NaN</td>\n",
       "      <td>NaN</td>\n",
       "      <td>NaN</td>\n",
       "    </tr>\n",
       "    <tr>\n",
       "      <th>3</th>\n",
       "      <td>01b5da38-3022-48ff-87c0-5519247fef1b</td>\n",
       "      <td>567317</td>\n",
       "      <td>Desktop</td>\n",
       "      <td>6</td>\n",
       "      <td>Source_B</td>\n",
       "      <td>2021-05-01</td>\n",
       "      <td>171481813</td>\n",
       "      <td>login</td>\n",
       "      <td>2021-05-01 16:09:23</td>\n",
       "      <td>NaN</td>\n",
       "      <td>NaN</td>\n",
       "      <td>&lt;NA&gt;</td>\n",
       "      <td>NaN</td>\n",
       "      <td>NaN</td>\n",
       "      <td>NaN</td>\n",
       "    </tr>\n",
       "    <tr>\n",
       "      <th>4</th>\n",
       "      <td>01b5da38-3022-48ff-87c0-5519247fef1b</td>\n",
       "      <td>567317</td>\n",
       "      <td>Desktop</td>\n",
       "      <td>6</td>\n",
       "      <td>Source_B</td>\n",
       "      <td>2021-05-01</td>\n",
       "      <td>171481813</td>\n",
       "      <td>main_page</td>\n",
       "      <td>2021-05-01 16:09:34</td>\n",
       "      <td>2c6095730b514c189ee41c65f03febc3</td>\n",
       "      <td>NaN</td>\n",
       "      <td>&lt;NA&gt;</td>\n",
       "      <td>NaN</td>\n",
       "      <td>NaN</td>\n",
       "      <td>NaN</td>\n",
       "    </tr>\n",
       "    <tr>\n",
       "      <th>5</th>\n",
       "      <td>01b5da38-3022-48ff-87c0-5519247fef1b</td>\n",
       "      <td>567317</td>\n",
       "      <td>Desktop</td>\n",
       "      <td>6</td>\n",
       "      <td>Source_B</td>\n",
       "      <td>2021-05-01</td>\n",
       "      <td>171481813</td>\n",
       "      <td>main_page</td>\n",
       "      <td>2021-05-01 16:09:40</td>\n",
       "      <td>2c6095730b514c189ee41c65f03febc3</td>\n",
       "      <td>NaN</td>\n",
       "      <td>&lt;NA&gt;</td>\n",
       "      <td>NaN</td>\n",
       "      <td>NaN</td>\n",
       "      <td>NaN</td>\n",
       "    </tr>\n",
       "    <tr>\n",
       "      <th>6</th>\n",
       "      <td>01b5da38-3022-48ff-87c0-5519247fef1b</td>\n",
       "      <td>567317</td>\n",
       "      <td>Desktop</td>\n",
       "      <td>6</td>\n",
       "      <td>Source_B</td>\n",
       "      <td>2021-05-01</td>\n",
       "      <td>171481813</td>\n",
       "      <td>main_page</td>\n",
       "      <td>2021-05-01 16:09:50</td>\n",
       "      <td>1be5a933aab34fbab594bebba48e976e</td>\n",
       "      <td>NaN</td>\n",
       "      <td>&lt;NA&gt;</td>\n",
       "      <td>NaN</td>\n",
       "      <td>NaN</td>\n",
       "      <td>NaN</td>\n",
       "    </tr>\n",
       "    <tr>\n",
       "      <th>7</th>\n",
       "      <td>01b5da38-3022-48ff-87c0-5519247fef1b</td>\n",
       "      <td>567317</td>\n",
       "      <td>Desktop</td>\n",
       "      <td>6</td>\n",
       "      <td>Source_B</td>\n",
       "      <td>2021-05-01</td>\n",
       "      <td>171481813</td>\n",
       "      <td>main_page</td>\n",
       "      <td>2021-05-01 16:10:04</td>\n",
       "      <td>39b7eab4f4704ed2886fafe171489960</td>\n",
       "      <td>NaN</td>\n",
       "      <td>&lt;NA&gt;</td>\n",
       "      <td>NaN</td>\n",
       "      <td>NaN</td>\n",
       "      <td>NaN</td>\n",
       "    </tr>\n",
       "    <tr>\n",
       "      <th>8</th>\n",
       "      <td>01b5da38-3022-48ff-87c0-5519247fef1b</td>\n",
       "      <td>567317</td>\n",
       "      <td>Desktop</td>\n",
       "      <td>6</td>\n",
       "      <td>Source_B</td>\n",
       "      <td>2021-05-01</td>\n",
       "      <td>171481813</td>\n",
       "      <td>main_page</td>\n",
       "      <td>2021-05-01 16:10:12</td>\n",
       "      <td>39b7eab4f4704ed2886fafe171489960</td>\n",
       "      <td>NaN</td>\n",
       "      <td>&lt;NA&gt;</td>\n",
       "      <td>NaN</td>\n",
       "      <td>NaN</td>\n",
       "      <td>NaN</td>\n",
       "    </tr>\n",
       "    <tr>\n",
       "      <th>9</th>\n",
       "      <td>01b5da38-3022-48ff-87c0-5519247fef1b</td>\n",
       "      <td>567317</td>\n",
       "      <td>Desktop</td>\n",
       "      <td>6</td>\n",
       "      <td>Source_B</td>\n",
       "      <td>2021-05-01</td>\n",
       "      <td>171481813</td>\n",
       "      <td>main_page</td>\n",
       "      <td>2021-05-01 16:10:28</td>\n",
       "      <td>55d6470712ee48e98509478ad6aa18ee</td>\n",
       "      <td>NaN</td>\n",
       "      <td>&lt;NA&gt;</td>\n",
       "      <td>NaN</td>\n",
       "      <td>NaN</td>\n",
       "      <td>NaN</td>\n",
       "    </tr>\n",
       "    <tr>\n",
       "      <th>10</th>\n",
       "      <td>01b5da38-3022-48ff-87c0-5519247fef1b</td>\n",
       "      <td>567317</td>\n",
       "      <td>Desktop</td>\n",
       "      <td>6</td>\n",
       "      <td>Source_B</td>\n",
       "      <td>2021-05-01</td>\n",
       "      <td>171481813</td>\n",
       "      <td>main_page</td>\n",
       "      <td>2021-05-01 16:10:30</td>\n",
       "      <td>59fc1a894303462e8205a759d906499c</td>\n",
       "      <td>NaN</td>\n",
       "      <td>&lt;NA&gt;</td>\n",
       "      <td>NaN</td>\n",
       "      <td>NaN</td>\n",
       "      <td>NaN</td>\n",
       "    </tr>\n",
       "    <tr>\n",
       "      <th>11</th>\n",
       "      <td>01b5da38-3022-48ff-87c0-5519247fef1b</td>\n",
       "      <td>567317</td>\n",
       "      <td>Desktop</td>\n",
       "      <td>6</td>\n",
       "      <td>Source_B</td>\n",
       "      <td>2021-05-01</td>\n",
       "      <td>171481813</td>\n",
       "      <td>main_page</td>\n",
       "      <td>2021-05-01 16:10:32</td>\n",
       "      <td>1d6bb74687104fa1953924c9684fe624</td>\n",
       "      <td>NaN</td>\n",
       "      <td>&lt;NA&gt;</td>\n",
       "      <td>NaN</td>\n",
       "      <td>NaN</td>\n",
       "      <td>NaN</td>\n",
       "    </tr>\n",
       "    <tr>\n",
       "      <th>12</th>\n",
       "      <td>01b5da38-3022-48ff-87c0-5519247fef1b</td>\n",
       "      <td>567317</td>\n",
       "      <td>Desktop</td>\n",
       "      <td>6</td>\n",
       "      <td>Source_B</td>\n",
       "      <td>2021-05-01</td>\n",
       "      <td>171481813</td>\n",
       "      <td>main_page</td>\n",
       "      <td>2021-05-01 16:10:44</td>\n",
       "      <td>8d9fb9d5992f400eaf02660973a66adf</td>\n",
       "      <td>NaN</td>\n",
       "      <td>&lt;NA&gt;</td>\n",
       "      <td>NaN</td>\n",
       "      <td>NaN</td>\n",
       "      <td>NaN</td>\n",
       "    </tr>\n",
       "    <tr>\n",
       "      <th>13</th>\n",
       "      <td>01b5da38-3022-48ff-87c0-5519247fef1b</td>\n",
       "      <td>567317</td>\n",
       "      <td>Desktop</td>\n",
       "      <td>6</td>\n",
       "      <td>Source_B</td>\n",
       "      <td>2021-05-01</td>\n",
       "      <td>171481813</td>\n",
       "      <td>main_page</td>\n",
       "      <td>2021-05-01 16:10:45</td>\n",
       "      <td>a29747e18d3f4ff487b355d34312aacb</td>\n",
       "      <td>NaN</td>\n",
       "      <td>&lt;NA&gt;</td>\n",
       "      <td>NaN</td>\n",
       "      <td>NaN</td>\n",
       "      <td>NaN</td>\n",
       "    </tr>\n",
       "    <tr>\n",
       "      <th>14</th>\n",
       "      <td>01b5da38-3022-48ff-87c0-5519247fef1b</td>\n",
       "      <td>567317</td>\n",
       "      <td>Desktop</td>\n",
       "      <td>6</td>\n",
       "      <td>Source_B</td>\n",
       "      <td>2021-05-01</td>\n",
       "      <td>171481813</td>\n",
       "      <td>main_page</td>\n",
       "      <td>2021-05-01 16:10:54</td>\n",
       "      <td>a29747e18d3f4ff487b355d34312aacb</td>\n",
       "      <td>NaN</td>\n",
       "      <td>&lt;NA&gt;</td>\n",
       "      <td>NaN</td>\n",
       "      <td>NaN</td>\n",
       "      <td>NaN</td>\n",
       "    </tr>\n",
       "    <tr>\n",
       "      <th>15</th>\n",
       "      <td>01b5da38-3022-48ff-87c0-5519247fef1b</td>\n",
       "      <td>567317</td>\n",
       "      <td>Desktop</td>\n",
       "      <td>6</td>\n",
       "      <td>Source_B</td>\n",
       "      <td>2021-05-01</td>\n",
       "      <td>171481813</td>\n",
       "      <td>main_page</td>\n",
       "      <td>2021-05-01 16:10:58</td>\n",
       "      <td>a29747e18d3f4ff487b355d34312aacb</td>\n",
       "      <td>NaN</td>\n",
       "      <td>&lt;NA&gt;</td>\n",
       "      <td>NaN</td>\n",
       "      <td>NaN</td>\n",
       "      <td>NaN</td>\n",
       "    </tr>\n",
       "    <tr>\n",
       "      <th>16</th>\n",
       "      <td>01b5da38-3022-48ff-87c0-5519247fef1b</td>\n",
       "      <td>567317</td>\n",
       "      <td>Desktop</td>\n",
       "      <td>6</td>\n",
       "      <td>Source_B</td>\n",
       "      <td>2021-05-01</td>\n",
       "      <td>171481813</td>\n",
       "      <td>object_page</td>\n",
       "      <td>2021-05-01 16:11:33</td>\n",
       "      <td>8d9fb9d5992f400eaf02660973a66adf</td>\n",
       "      <td>25110.0</td>\n",
       "      <td>&lt;NA&gt;</td>\n",
       "      <td>NaN</td>\n",
       "      <td>NaN</td>\n",
       "      <td>0.05</td>\n",
       "    </tr>\n",
       "    <tr>\n",
       "      <th>17</th>\n",
       "      <td>01b5da38-3022-48ff-87c0-5519247fef1b</td>\n",
       "      <td>567317</td>\n",
       "      <td>Desktop</td>\n",
       "      <td>6</td>\n",
       "      <td>Source_B</td>\n",
       "      <td>2021-05-01</td>\n",
       "      <td>171481813</td>\n",
       "      <td>login</td>\n",
       "      <td>2021-05-01 16:13:14</td>\n",
       "      <td>NaN</td>\n",
       "      <td>NaN</td>\n",
       "      <td>&lt;NA&gt;</td>\n",
       "      <td>NaN</td>\n",
       "      <td>NaN</td>\n",
       "      <td>NaN</td>\n",
       "    </tr>\n",
       "    <tr>\n",
       "      <th>18</th>\n",
       "      <td>01b5da38-3022-48ff-87c0-5519247fef1b</td>\n",
       "      <td>567317</td>\n",
       "      <td>Desktop</td>\n",
       "      <td>6</td>\n",
       "      <td>Source_B</td>\n",
       "      <td>2021-05-01</td>\n",
       "      <td>171481813</td>\n",
       "      <td>add_to_cart</td>\n",
       "      <td>2021-05-01 16:13:22</td>\n",
       "      <td>55d4027ac83e438f9f893892f6903409</td>\n",
       "      <td>25069.0</td>\n",
       "      <td>590437</td>\n",
       "      <td>2800.0</td>\n",
       "      <td>30.9</td>\n",
       "      <td>0.05</td>\n",
       "    </tr>\n",
       "    <tr>\n",
       "      <th>19</th>\n",
       "      <td>02920ee1-ae61-4e0c-b457-b24077b52c42</td>\n",
       "      <td>181094</td>\n",
       "      <td>Desktop</td>\n",
       "      <td>4</td>\n",
       "      <td>Source_B</td>\n",
       "      <td>2021-05-01</td>\n",
       "      <td>171462891</td>\n",
       "      <td>authorization</td>\n",
       "      <td>2021-05-01 14:49:14</td>\n",
       "      <td>NaN</td>\n",
       "      <td>NaN</td>\n",
       "      <td>&lt;NA&gt;</td>\n",
       "      <td>NaN</td>\n",
       "      <td>NaN</td>\n",
       "      <td>NaN</td>\n",
       "    </tr>\n",
       "  </tbody>\n",
       "</table>\n",
       "</div>"
      ],
      "text/plain": [
       "                            visitor_uuid  user_id device_type  city_id  \\\n",
       "0   01b5da38-3022-48ff-87c0-5519247fef1b   567317     Desktop        6   \n",
       "1   01b5da38-3022-48ff-87c0-5519247fef1b   567317     Desktop        6   \n",
       "2   01b5da38-3022-48ff-87c0-5519247fef1b   567317     Desktop        6   \n",
       "3   01b5da38-3022-48ff-87c0-5519247fef1b   567317     Desktop        6   \n",
       "4   01b5da38-3022-48ff-87c0-5519247fef1b   567317     Desktop        6   \n",
       "5   01b5da38-3022-48ff-87c0-5519247fef1b   567317     Desktop        6   \n",
       "6   01b5da38-3022-48ff-87c0-5519247fef1b   567317     Desktop        6   \n",
       "7   01b5da38-3022-48ff-87c0-5519247fef1b   567317     Desktop        6   \n",
       "8   01b5da38-3022-48ff-87c0-5519247fef1b   567317     Desktop        6   \n",
       "9   01b5da38-3022-48ff-87c0-5519247fef1b   567317     Desktop        6   \n",
       "10  01b5da38-3022-48ff-87c0-5519247fef1b   567317     Desktop        6   \n",
       "11  01b5da38-3022-48ff-87c0-5519247fef1b   567317     Desktop        6   \n",
       "12  01b5da38-3022-48ff-87c0-5519247fef1b   567317     Desktop        6   \n",
       "13  01b5da38-3022-48ff-87c0-5519247fef1b   567317     Desktop        6   \n",
       "14  01b5da38-3022-48ff-87c0-5519247fef1b   567317     Desktop        6   \n",
       "15  01b5da38-3022-48ff-87c0-5519247fef1b   567317     Desktop        6   \n",
       "16  01b5da38-3022-48ff-87c0-5519247fef1b   567317     Desktop        6   \n",
       "17  01b5da38-3022-48ff-87c0-5519247fef1b   567317     Desktop        6   \n",
       "18  01b5da38-3022-48ff-87c0-5519247fef1b   567317     Desktop        6   \n",
       "19  02920ee1-ae61-4e0c-b457-b24077b52c42   181094     Desktop        4   \n",
       "\n",
       "      source first_date   visit_id          event            datetime  \\\n",
       "0   Source_B 2021-05-01  171481813  authorization 2021-05-01 16:07:53   \n",
       "1   Source_B 2021-05-01  171481813       reg_page 2021-05-01 16:09:16   \n",
       "2   Source_B 2021-05-01  171481813  confirm_phone 2021-05-01 16:09:19   \n",
       "3   Source_B 2021-05-01  171481813          login 2021-05-01 16:09:23   \n",
       "4   Source_B 2021-05-01  171481813      main_page 2021-05-01 16:09:34   \n",
       "5   Source_B 2021-05-01  171481813      main_page 2021-05-01 16:09:40   \n",
       "6   Source_B 2021-05-01  171481813      main_page 2021-05-01 16:09:50   \n",
       "7   Source_B 2021-05-01  171481813      main_page 2021-05-01 16:10:04   \n",
       "8   Source_B 2021-05-01  171481813      main_page 2021-05-01 16:10:12   \n",
       "9   Source_B 2021-05-01  171481813      main_page 2021-05-01 16:10:28   \n",
       "10  Source_B 2021-05-01  171481813      main_page 2021-05-01 16:10:30   \n",
       "11  Source_B 2021-05-01  171481813      main_page 2021-05-01 16:10:32   \n",
       "12  Source_B 2021-05-01  171481813      main_page 2021-05-01 16:10:44   \n",
       "13  Source_B 2021-05-01  171481813      main_page 2021-05-01 16:10:45   \n",
       "14  Source_B 2021-05-01  171481813      main_page 2021-05-01 16:10:54   \n",
       "15  Source_B 2021-05-01  171481813      main_page 2021-05-01 16:10:58   \n",
       "16  Source_B 2021-05-01  171481813    object_page 2021-05-01 16:11:33   \n",
       "17  Source_B 2021-05-01  171481813          login 2021-05-01 16:13:14   \n",
       "18  Source_B 2021-05-01  171481813    add_to_cart 2021-05-01 16:13:22   \n",
       "19  Source_B 2021-05-01  171462891  authorization 2021-05-01 14:49:14   \n",
       "\n",
       "                             rest_id  object_id  order_id  revenue  delivery  \\\n",
       "0                                NaN        NaN      <NA>      NaN       NaN   \n",
       "1                                NaN        NaN      <NA>      NaN       NaN   \n",
       "2                                NaN        NaN      <NA>      NaN       NaN   \n",
       "3                                NaN        NaN      <NA>      NaN       NaN   \n",
       "4   2c6095730b514c189ee41c65f03febc3        NaN      <NA>      NaN       NaN   \n",
       "5   2c6095730b514c189ee41c65f03febc3        NaN      <NA>      NaN       NaN   \n",
       "6   1be5a933aab34fbab594bebba48e976e        NaN      <NA>      NaN       NaN   \n",
       "7   39b7eab4f4704ed2886fafe171489960        NaN      <NA>      NaN       NaN   \n",
       "8   39b7eab4f4704ed2886fafe171489960        NaN      <NA>      NaN       NaN   \n",
       "9   55d6470712ee48e98509478ad6aa18ee        NaN      <NA>      NaN       NaN   \n",
       "10  59fc1a894303462e8205a759d906499c        NaN      <NA>      NaN       NaN   \n",
       "11  1d6bb74687104fa1953924c9684fe624        NaN      <NA>      NaN       NaN   \n",
       "12  8d9fb9d5992f400eaf02660973a66adf        NaN      <NA>      NaN       NaN   \n",
       "13  a29747e18d3f4ff487b355d34312aacb        NaN      <NA>      NaN       NaN   \n",
       "14  a29747e18d3f4ff487b355d34312aacb        NaN      <NA>      NaN       NaN   \n",
       "15  a29747e18d3f4ff487b355d34312aacb        NaN      <NA>      NaN       NaN   \n",
       "16  8d9fb9d5992f400eaf02660973a66adf    25110.0      <NA>      NaN       NaN   \n",
       "17                               NaN        NaN      <NA>      NaN       NaN   \n",
       "18  55d4027ac83e438f9f893892f6903409    25069.0    590437   2800.0      30.9   \n",
       "19                               NaN        NaN      <NA>      NaN       NaN   \n",
       "\n",
       "    commission  \n",
       "0          NaN  \n",
       "1          NaN  \n",
       "2          NaN  \n",
       "3          NaN  \n",
       "4          NaN  \n",
       "5          NaN  \n",
       "6          NaN  \n",
       "7          NaN  \n",
       "8          NaN  \n",
       "9          NaN  \n",
       "10         NaN  \n",
       "11         NaN  \n",
       "12         NaN  \n",
       "13         NaN  \n",
       "14         NaN  \n",
       "15         NaN  \n",
       "16        0.05  \n",
       "17         NaN  \n",
       "18        0.05  \n",
       "19         NaN  "
      ]
     },
     "execution_count": 4,
     "metadata": {},
     "output_type": "execute_result"
    }
   ],
   "source": [
    "#Выведем первые 20 строк\n",
    "data.head(20)"
   ]
  },
  {
   "cell_type": "markdown",
   "id": "1c8069df",
   "metadata": {},
   "source": [
    "Видно, что пропуски в датасете логически обусловлены. Столбец rest_id заполнен только когда действие связано с рестораном, object_id появляется только в карточках блюд и заказах, order_id, revenue, delivery только для заказов, а commission заполняется только там, где есть ресторан/блюдо. То есть это скорее разные уровни детализации событий. Теперь займёмся типом данных некоторых столбцов."
   ]
  },
  {
   "cell_type": "code",
   "execution_count": 5,
   "id": "363cde6d",
   "metadata": {},
   "outputs": [
    {
     "name": "stdout",
     "output_type": "stream",
     "text": [
      "Количество неявных дубликатов: 7\n",
      "Уникальных пользователей: 8473\n",
      "Уникальных ресторанов: 21\n",
      "Уникальных заказов: 4443\n",
      "Уникальных блюд: 603\n",
      "Данные представлены за период: 2021-05-01 00:10:55 — 2021-07-02 00:12:08\n"
     ]
    }
   ],
   "source": [
    "#Проверка на дубликаты\n",
    "data.duplicated().sum()\n",
    "\n",
    "# Проверка на неявные дубликаты (по ключевым полям)\n",
    "duplicates = data.duplicated(subset=['user_id', 'datetime', 'event']).sum()\n",
    "print(f\"Количество неявных дубликатов: {duplicates}\")\n",
    "\n",
    "# Проверим количество уникальных пользователей и ресторанов\n",
    "unique_users = data['user_id'].nunique()\n",
    "unique_restaurants = data['rest_id'].nunique()\n",
    "print(f\"Уникальных пользователей: {unique_users}\")\n",
    "print(f\"Уникальных ресторанов: {unique_restaurants}\")\n",
    "\n",
    "# Проверим уникальные заказы и блюда\n",
    "unique_orders = data['order_id'].nunique()\n",
    "unique_dishes = data['object_id'].nunique()\n",
    "print(f\"Уникальных заказов: {unique_orders}\")\n",
    "print(f\"Уникальных блюд: {unique_dishes}\")\n",
    "\n",
    "# Проверим период данных\n",
    "date_min = data['datetime'].min()\n",
    "date_max = data['datetime'].max()\n",
    "print(f\"Данные представлены за период: {date_min} — {date_max}\")"
   ]
  },
  {
   "cell_type": "code",
   "execution_count": 6,
   "id": "058d2e01",
   "metadata": {},
   "outputs": [],
   "source": [
    "# Удалим неявные дубликаты\n",
    "data = data.drop_duplicates(subset=['user_id','datetime','event'])"
   ]
  },
  {
   "cell_type": "markdown",
   "id": "79a28aa8",
   "metadata": {},
   "source": [
    "На данный момент можно утверждать, что предобработка данных выполнена хорошо, так как мы привели к нужному типу все данные и выполнили нужную проверку на \"грязные\" пропуски и дубликаты."
   ]
  },
  {
   "cell_type": "markdown",
   "id": "e7c9d578",
   "metadata": {
    "id": "e7c9d578"
   },
   "source": [
    "---\n",
    "\n",
    "## 2. Анализ пользовательского пути\n",
    "\n",
    "Маркетологи стали замечать следующее: деньги на рекламу по-прежнему тратятся, а заказов стало меньше. И это несмотря на то, что приложение скачивается и устанавливается так же активно, как раньше. Складывается ощущение, что пользователи где-то теряются. При этом доля заказов с десктопной версии приложения увеличилась по сравнению с мобильной.\n",
    "\n",
    "Разработчики говорят, что последние обновления мобильной версии приложения не должны были повлиять на каталог блюд или его выбор для заказа и последующей оплаты доставки, так как изменения касались нового алгоритма подтверждения мобильного телефона и адреса доставки.\n",
    "\n",
    "С помощью воронок изучите общий пользовательский путь новых пользователей, затем сравните поведение пользователей мобильной и десктопной версий приложения. "
   ]
  },
  {
   "cell_type": "markdown",
   "id": "35acd0f6",
   "metadata": {},
   "source": [
    "**Задача 2.1.** Постройте и визуализируйте общую воронку (по всем данным), затем опишите пользовательский путь: какие этапы представлены, какова их последовательность, на каком (или на каких) этапах теряется большая часть новых пользователей.\n",
    "    \n",
    "При решении постройте две воронки: \n",
    "- **классическую воронку** — доля от первого шага в процентах\n",
    "- **step-by-step** — с конверсией от предыдущего этапа.\n",
    "\n",
    "Предполагается, что пользователь проходит такой путь к оформлению доставки блюда из ресторанов:\n",
    "1. `authorization` — авторизация пользователя — запуск приложения.\n",
    "2. `main_page` — загрузка основной страницы приложения.\n",
    "2. `reg_page` — переход на страницу регистрации.\n",
    "2. `confirm_phone` — подтверждение телефона (окончание процесса регистрации).\n",
    "2. `object_page` — страница блюда.\n",
    "2. `add_to_cart` — переход в корзину.\n",
    "2. `order` — оформление заказа.    "
   ]
  },
  {
   "cell_type": "code",
   "execution_count": 7,
   "id": "f3d8bcd0",
   "metadata": {},
   "outputs": [],
   "source": [
    "# Отбор шагов воронки\n",
    "steps = ['authorization', 'main_page', 'reg_page', 'confirm_phone', 'object_page', 'add_to_cart', 'order']\n",
    "\n",
    "# Отбор новых пользователей\n",
    "first_event_date = data.groupby('visitor_uuid')['datetime'].min().dt.date.rename('first_event_date')\n",
    "first_date_per_visitor = data.groupby('visitor_uuid')['first_date'].first().rename('first_date')\n",
    "visitors = pd.concat([first_event_date, first_date_per_visitor], axis=1)\n",
    "visitors['is_new'] = visitors['first_event_date'] == visitors['first_date']\n",
    "new_visitors = visitors[visitors['is_new']].index.tolist()\n",
    "\n",
    "data_new = data[data['visitor_uuid'].isin(new_visitors)].copy()\n",
    "\n",
    "# Формируем таблицу событий\n",
    "ev = (data_new[data_new['event'].isin(steps)]\n",
    "      .sort_values('datetime')\n",
    "      .groupby(['visitor_uuid','event'])['datetime']\n",
    "      .min()\n",
    "      .unstack(fill_value=pd.NaT))\n",
    "\n",
    "for s in steps:\n",
    "    if s not in ev.columns:\n",
    "        ev[s] = pd.NaT\n",
    "ev = ev[steps]"
   ]
  },
  {
   "cell_type": "code",
   "execution_count": 8,
   "id": "03b92fce",
   "metadata": {},
   "outputs": [
    {
     "name": "stdout",
     "output_type": "stream",
     "text": [
      "Общая воронка (новые пользователи):\n"
     ]
    },
    {
     "data": {
      "text/html": [
       "<div>\n",
       "<style scoped>\n",
       "    .dataframe tbody tr th:only-of-type {\n",
       "        vertical-align: middle;\n",
       "    }\n",
       "\n",
       "    .dataframe tbody tr th {\n",
       "        vertical-align: top;\n",
       "    }\n",
       "\n",
       "    .dataframe thead th {\n",
       "        text-align: right;\n",
       "    }\n",
       "</style>\n",
       "<table border=\"1\" class=\"dataframe\">\n",
       "  <thead>\n",
       "    <tr style=\"text-align: right;\">\n",
       "      <th></th>\n",
       "      <th>count</th>\n",
       "      <th>classic_%</th>\n",
       "      <th>step_%</th>\n",
       "    </tr>\n",
       "  </thead>\n",
       "  <tbody>\n",
       "    <tr>\n",
       "      <th>authorization</th>\n",
       "      <td>6931</td>\n",
       "      <td>100.00</td>\n",
       "      <td>NaN</td>\n",
       "    </tr>\n",
       "    <tr>\n",
       "      <th>main_page</th>\n",
       "      <td>6068</td>\n",
       "      <td>87.55</td>\n",
       "      <td>87.55</td>\n",
       "    </tr>\n",
       "    <tr>\n",
       "      <th>reg_page</th>\n",
       "      <td>5649</td>\n",
       "      <td>81.50</td>\n",
       "      <td>93.09</td>\n",
       "    </tr>\n",
       "    <tr>\n",
       "      <th>confirm_phone</th>\n",
       "      <td>4347</td>\n",
       "      <td>62.72</td>\n",
       "      <td>76.95</td>\n",
       "    </tr>\n",
       "    <tr>\n",
       "      <th>object_page</th>\n",
       "      <td>2946</td>\n",
       "      <td>42.50</td>\n",
       "      <td>67.77</td>\n",
       "    </tr>\n",
       "    <tr>\n",
       "      <th>add_to_cart</th>\n",
       "      <td>2223</td>\n",
       "      <td>32.07</td>\n",
       "      <td>75.46</td>\n",
       "    </tr>\n",
       "    <tr>\n",
       "      <th>order</th>\n",
       "      <td>1795</td>\n",
       "      <td>25.90</td>\n",
       "      <td>80.75</td>\n",
       "    </tr>\n",
       "  </tbody>\n",
       "</table>\n",
       "</div>"
      ],
      "text/plain": [
       "               count  classic_%  step_%\n",
       "authorization   6931     100.00     NaN\n",
       "main_page       6068      87.55   87.55\n",
       "reg_page        5649      81.50   93.09\n",
       "confirm_phone   4347      62.72   76.95\n",
       "object_page     2946      42.50   67.77\n",
       "add_to_cart     2223      32.07   75.46\n",
       "order           1795      25.90   80.75"
      ]
     },
     "metadata": {},
     "output_type": "display_data"
    },
    {
     "data": {
      "image/png": "[encoded data removed]",
      "text/plain": [
       "<Figure size 1008x360 with 2 Axes>"
      ]
     },
     "metadata": {
      "needs_background": "light"
     },
     "output_type": "display_data"
    }
   ],
   "source": [
    "# Считаем воронку\n",
    "def funnel_counts(ev_df, steps):\n",
    "    counts = {}\n",
    "    for step in steps:\n",
    "        counts[step] = ev_df[step].notna().sum()\n",
    "    return pd.Series(counts)\n",
    "\n",
    "# Количество пользователей на каждом шаге\n",
    "counts = funnel_counts(ev, steps)\n",
    "\n",
    "# Таблица с метриками\n",
    "funnel = pd.DataFrame(index=steps)\n",
    "funnel['count'] = counts\n",
    "funnel['classic_%'] = funnel['count'] / funnel['count'].iloc[0] * 100\n",
    "funnel['step_%'] = funnel['count'] / funnel['count'].shift(1) * 100\n",
    "funnel = funnel.round(2)\n",
    "\n",
    "print(\"Общая воронка (новые пользователи):\")\n",
    "display(funnel)\n",
    "\n",
    "# Визуализация\n",
    "fig, axes = plt.subplots(1, 2, figsize=(14,5))\n",
    "\n",
    "# Классическая воронка\n",
    "axes[0].bar(funnel.index, funnel['classic_%'])\n",
    "axes[0].set_ylim(0, 100)\n",
    "axes[0].set_title('Классическая воронка (% от первого шага)')\n",
    "for i, v in enumerate(funnel['classic_%']):\n",
    "    axes[0].text(i, v + 1, f\"{v:.1f}%\", ha='center')\n",
    "\n",
    "# Step-by-step воронка\n",
    "axes[1].bar(funnel.index, funnel['step_%'].fillna(0))\n",
    "axes[1].set_ylim(0, 100)\n",
    "axes[1].set_title('Step-by-step воронка (% от предыдущего шага)')\n",
    "for i, v in enumerate(funnel['step_%'].fillna(0)):\n",
    "    axes[1].text(i, v + 1, f\"{v:.1f}%\", ha='center')\n",
    "\n",
    "plt.tight_layout()\n",
    "plt.show()"
   ]
  },
  {
   "cell_type": "markdown",
   "id": "4f4df3e9",
   "metadata": {},
   "source": [
    "По полученным воронкам видно, что присутствует огромный отток пользователей приходится на этап регистрации и подтверждения телефона. Несмотря на то, что 26% новых пользователей доходят до заказа, именно процесс верификации выглядит язвимым местом. Это связано с последними изменениями в алгоритме подтверждения мобильного телефона и адреса доставки."
   ]
  },
  {
   "cell_type": "markdown",
   "id": "2544fa1b",
   "metadata": {
    "id": "2544fa1b"
   },
   "source": [
    "**Задача 2.2.** Сравните пользовательский путь в двух приложениях: в мобильной версии и десктопной. Для этого постройте и визуализируйте **две воронки step-by-step**: для новых пользователей **мобильной** и **десктопной** версий приложения.\n",
    "    \n",
    "Сравните результаты между собой и проанализируйте, есть ли различия в пользовательском пути для различных приложений. Результаты сравнения опишите в небольшом **промежуточном выводе**."
   ]
  },
  {
   "cell_type": "code",
   "execution_count": 9,
   "id": "fdd93c9b",
   "metadata": {},
   "outputs": [],
   "source": [
    "first_device = data_new.sort_values('datetime').groupby('visitor_uuid')['device_type'].first().rename('first_device')\n",
    "ev = (data_new[data_new['event'].isin(steps)]\n",
    "       .sort_values('datetime')\n",
    "       .groupby(['visitor_uuid','event'])['datetime']\n",
    "       .min()\n",
    "       .unstack(fill_value=pd.NaT))\n",
    " \n",
    "for s in steps:\n",
    "    if s not in ev.columns:\n",
    "        ev[s] = pd.NaT\n",
    "        ev = ev[steps]\n",
    "\n",
    "# --- Функция простого подсчёта (наличие события, без строгого порядка) ---\n",
    "def counts_by_step(ev_df, steps):\n",
    "    return ev_df[steps].notna().sum()\n",
    "\n",
    "# --- Считаем для каждого устройства ---\n",
    "devices_to_compare = [d for d in ['Desktop','Mobile'] if d in first_device.unique().tolist()]\n",
    "counts_by_device = {}\n",
    "step_pct_by_device = {}\n",
    "\n",
    "for dev in devices_to_compare:\n",
    "    uids = first_device[first_device == dev].index\n",
    "    ev_sub = ev.reindex(uids).fillna(pd.NaT)\n",
    "\n",
    "    # абсолютные числа: сколько пользователей имеют событие\n",
    "    counts = counts_by_step(ev_sub, steps)\n",
    "    counts_by_device[dev] = counts\n",
    "\n",
    "    # step-by-step: доля тех, у кого есть и prev и cur, от числа тех, у кого есть prev\n",
    "    step_pct = []\n",
    "    for i, cur in enumerate(steps):\n",
    "        if i == 0:\n",
    "            step_pct.append(np.nan)\n",
    "            continue\n",
    "        prev = steps[i-1]\n",
    "        prev_mask_sum = ev_sub[prev].notna().sum()\n",
    "        both_sum = (ev_sub[prev].notna() & ev_sub[cur].notna()).sum()\n",
    "        pct = (both_sum / prev_mask_sum * 100) if prev_mask_sum > 0 else np.nan\n",
    "        step_pct.append(round(pct, 2))\n",
    "    step_pct_by_device[dev] = step_pct\n",
    "\n",
    "# Собираем DataFrame'ы для вывода\n",
    "counts_df = pd.DataFrame(counts_by_device).astype(int)\n",
    "step_pct_df = pd.DataFrame(step_pct_by_device, index=steps).round(2)"
   ]
  },
  {
   "cell_type": "code",
   "execution_count": 10,
   "id": "0727970e",
   "metadata": {},
   "outputs": [
    {
     "name": "stdout",
     "output_type": "stream",
     "text": [
      "Абсолютные числа:\n"
     ]
    },
    {
     "data": {
      "text/html": [
       "<div>\n",
       "<style scoped>\n",
       "    .dataframe tbody tr th:only-of-type {\n",
       "        vertical-align: middle;\n",
       "    }\n",
       "\n",
       "    .dataframe tbody tr th {\n",
       "        vertical-align: top;\n",
       "    }\n",
       "\n",
       "    .dataframe thead th {\n",
       "        text-align: right;\n",
       "    }\n",
       "</style>\n",
       "<table border=\"1\" class=\"dataframe\">\n",
       "  <thead>\n",
       "    <tr style=\"text-align: right;\">\n",
       "      <th></th>\n",
       "      <th>Desktop</th>\n",
       "      <th>Mobile</th>\n",
       "    </tr>\n",
       "    <tr>\n",
       "      <th>event</th>\n",
       "      <th></th>\n",
       "      <th></th>\n",
       "    </tr>\n",
       "  </thead>\n",
       "  <tbody>\n",
       "    <tr>\n",
       "      <th>authorization</th>\n",
       "      <td>4305</td>\n",
       "      <td>2626</td>\n",
       "    </tr>\n",
       "    <tr>\n",
       "      <th>main_page</th>\n",
       "      <td>3882</td>\n",
       "      <td>2186</td>\n",
       "    </tr>\n",
       "    <tr>\n",
       "      <th>reg_page</th>\n",
       "      <td>3546</td>\n",
       "      <td>2103</td>\n",
       "    </tr>\n",
       "    <tr>\n",
       "      <th>confirm_phone</th>\n",
       "      <td>3197</td>\n",
       "      <td>1150</td>\n",
       "    </tr>\n",
       "    <tr>\n",
       "      <th>object_page</th>\n",
       "      <td>2246</td>\n",
       "      <td>700</td>\n",
       "    </tr>\n",
       "    <tr>\n",
       "      <th>add_to_cart</th>\n",
       "      <td>1651</td>\n",
       "      <td>572</td>\n",
       "    </tr>\n",
       "    <tr>\n",
       "      <th>order</th>\n",
       "      <td>1315</td>\n",
       "      <td>480</td>\n",
       "    </tr>\n",
       "  </tbody>\n",
       "</table>\n",
       "</div>"
      ],
      "text/plain": [
       "               Desktop  Mobile\n",
       "event                         \n",
       "authorization     4305    2626\n",
       "main_page         3882    2186\n",
       "reg_page          3546    2103\n",
       "confirm_phone     3197    1150\n",
       "object_page       2246     700\n",
       "add_to_cart       1651     572\n",
       "order             1315     480"
      ]
     },
     "metadata": {},
     "output_type": "display_data"
    },
    {
     "name": "stdout",
     "output_type": "stream",
     "text": [
      "\n",
      "Step-by-step конверсия (%):\n"
     ]
    },
    {
     "data": {
      "text/html": [
       "<div>\n",
       "<style scoped>\n",
       "    .dataframe tbody tr th:only-of-type {\n",
       "        vertical-align: middle;\n",
       "    }\n",
       "\n",
       "    .dataframe tbody tr th {\n",
       "        vertical-align: top;\n",
       "    }\n",
       "\n",
       "    .dataframe thead th {\n",
       "        text-align: right;\n",
       "    }\n",
       "</style>\n",
       "<table border=\"1\" class=\"dataframe\">\n",
       "  <thead>\n",
       "    <tr style=\"text-align: right;\">\n",
       "      <th></th>\n",
       "      <th>Desktop</th>\n",
       "      <th>Mobile</th>\n",
       "    </tr>\n",
       "  </thead>\n",
       "  <tbody>\n",
       "    <tr>\n",
       "      <th>authorization</th>\n",
       "      <td>NaN</td>\n",
       "      <td>NaN</td>\n",
       "    </tr>\n",
       "    <tr>\n",
       "      <th>main_page</th>\n",
       "      <td>82.07</td>\n",
       "      <td>76.09</td>\n",
       "    </tr>\n",
       "    <tr>\n",
       "      <th>reg_page</th>\n",
       "      <td>73.47</td>\n",
       "      <td>69.85</td>\n",
       "    </tr>\n",
       "    <tr>\n",
       "      <th>confirm_phone</th>\n",
       "      <td>89.59</td>\n",
       "      <td>54.59</td>\n",
       "    </tr>\n",
       "    <tr>\n",
       "      <th>object_page</th>\n",
       "      <td>64.06</td>\n",
       "      <td>47.39</td>\n",
       "    </tr>\n",
       "    <tr>\n",
       "      <th>add_to_cart</th>\n",
       "      <td>57.70</td>\n",
       "      <td>53.14</td>\n",
       "    </tr>\n",
       "    <tr>\n",
       "      <th>order</th>\n",
       "      <td>61.66</td>\n",
       "      <td>60.31</td>\n",
       "    </tr>\n",
       "  </tbody>\n",
       "</table>\n",
       "</div>"
      ],
      "text/plain": [
       "               Desktop  Mobile\n",
       "authorization      NaN     NaN\n",
       "main_page        82.07   76.09\n",
       "reg_page         73.47   69.85\n",
       "confirm_phone    89.59   54.59\n",
       "object_page      64.06   47.39\n",
       "add_to_cart      57.70   53.14\n",
       "order            61.66   60.31"
      ]
     },
     "metadata": {},
     "output_type": "display_data"
    },
    {
     "name": "stdout",
     "output_type": "stream",
     "text": [
      "\n",
      "Количество пользователей с событием 'order' по устройствам:\n",
      "Desktop    1315\n",
      "Mobile      480\n",
      "Name: order, dtype: int64\n"
     ]
    },
    {
     "data": {
      "image/png": "[encoded data removed]",
      "text/plain": [
       "<Figure size 792x432 with 1 Axes>"
      ]
     },
     "metadata": {
      "needs_background": "light"
     },
     "output_type": "display_data"
    }
   ],
   "source": [
    "print(\"Абсолютные числа:\")\n",
    "display(counts_df)\n",
    "\n",
    "print(\"\\nStep-by-step конверсия (%):\")\n",
    "display(step_pct_df)\n",
    "print(\"\\nКоличество пользователей с событием 'order' по устройствам:\")\n",
    "print(counts_df.loc['order'])\n",
    "\n",
    "fig, ax = plt.subplots(figsize=(11,6))\n",
    "step_pct_df.plot(kind='bar', ax=ax)\n",
    "ax.set_ylabel('Конверсия от предыдущего шага, %')\n",
    "ax.set_ylim(0, 100)\n",
    "ax.set_title('Step-by-step конверсия — Desktop vs Mobile (новые пользователи)')\n",
    "ax.legend(title='Device')\n",
    "plt.xticks(rotation=30)\n",
    "\n",
    "for p in ax.patches:\n",
    "    height = p.get_height()\n",
    "    if not np.isnan(height) and height > 0:\n",
    "        ax.annotate(f'{height:.1f}%',\n",
    "                    (p.get_x() + p.get_width() / 2., height),\n",
    "                    ha='center', va='bottom', fontsize=9)\n",
    "\n",
    "plt.tight_layout()\n",
    "plt.show()"
   ]
  },
  {
   "cell_type": "markdown",
   "id": "b69a54db",
   "metadata": {},
   "source": [
    "Ключевая проблема мобильного приложения — это резкий провал на этапе верификации мобильного телефона. После регистрации мобильные пользователи теряются заметно сильнее: хуже переходят к просмотру блюд, реже добавляют их в корзину и оформляют заказ.\n",
    "\n",
    "В результате — из 2626 новых мобильных пользователей заказ сделали 480 человек, а из 4305 десктопных — 1315 человек. Это подтверждает наблюдения маркетологов: мобильные пользователи активно скачивают приложение, но пропадают на регистрации, что приводит к существенному снижению количества заказов."
   ]
  },
  {
   "cell_type": "markdown",
   "id": "688346cf",
   "metadata": {
    "id": "688346cf"
   },
   "source": [
    "---\n",
    "\n",
    "## 3. RFM сегментация\n",
    "\n",
    "У сервиса доставки еды не такое высокое удержание пользователей: в первый день возвращается около 14% посетителей, а на седьмой день и того меньше — около 4–5%. Маркетологи хотят запустить несколько рекламных кампаний, направленных на удержание платящих пользователей и их возврат в сервис, если они давно не совершали заказы.\n",
    "\n",
    "Для этого необходимо сегментировать пользователей на различные поведенческие сегменты с помощью RFM-сегментации по трём показателям: \n",
    "- **давность** (Recency), \n",
    "- **частота покупок** (Frequency), \n",
    "- **сумма трат** (Monetary).\n",
    "\n",
    "В качестве даты анализа установите **03 июля 2021 года**."
   ]
  },
  {
   "cell_type": "markdown",
   "id": "5f4a65c2",
   "metadata": {},
   "source": [
    "**Задача 3.1.** Для каждого покупателя посчитайте:\n",
    "- количество дней с последней покупки — давность (R);\n",
    "- частоту покупок (F);\n",
    "- стоимость всех покупок — сумму трат (M).\n",
    "    \n",
    "В качестве даты анализа установите **03 июля 2021 года**. После этого постройте три гистограммы и проанализируйте их."
   ]
  },
  {
   "cell_type": "code",
   "execution_count": 11,
   "id": "f3604a9f",
   "metadata": {},
   "outputs": [
    {
     "data": {
      "text/html": [
       "<div>\n",
       "<style scoped>\n",
       "    .dataframe tbody tr th:only-of-type {\n",
       "        vertical-align: middle;\n",
       "    }\n",
       "\n",
       "    .dataframe tbody tr th {\n",
       "        vertical-align: top;\n",
       "    }\n",
       "\n",
       "    .dataframe thead th {\n",
       "        text-align: right;\n",
       "    }\n",
       "</style>\n",
       "<table border=\"1\" class=\"dataframe\">\n",
       "  <thead>\n",
       "    <tr style=\"text-align: right;\">\n",
       "      <th></th>\n",
       "      <th>Recency</th>\n",
       "      <th>Frequency</th>\n",
       "      <th>Monetary</th>\n",
       "    </tr>\n",
       "    <tr>\n",
       "      <th>user_id</th>\n",
       "      <th></th>\n",
       "      <th></th>\n",
       "      <th></th>\n",
       "    </tr>\n",
       "  </thead>\n",
       "  <tbody>\n",
       "    <tr>\n",
       "      <th>5506</th>\n",
       "      <td>32</td>\n",
       "      <td>2</td>\n",
       "      <td>3752.00</td>\n",
       "    </tr>\n",
       "    <tr>\n",
       "      <th>6291</th>\n",
       "      <td>57</td>\n",
       "      <td>1</td>\n",
       "      <td>1750.00</td>\n",
       "    </tr>\n",
       "    <tr>\n",
       "      <th>6820</th>\n",
       "      <td>41</td>\n",
       "      <td>1</td>\n",
       "      <td>1260.14</td>\n",
       "    </tr>\n",
       "    <tr>\n",
       "      <th>11062</th>\n",
       "      <td>57</td>\n",
       "      <td>1</td>\n",
       "      <td>3785.60</td>\n",
       "    </tr>\n",
       "    <tr>\n",
       "      <th>13254</th>\n",
       "      <td>54</td>\n",
       "      <td>1</td>\n",
       "      <td>553.00</td>\n",
       "    </tr>\n",
       "  </tbody>\n",
       "</table>\n",
       "</div>"
      ],
      "text/plain": [
       "         Recency  Frequency  Monetary\n",
       "user_id                              \n",
       "5506          32          2   3752.00\n",
       "6291          57          1   1750.00\n",
       "6820          41          1   1260.14\n",
       "11062         57          1   3785.60\n",
       "13254         54          1    553.00"
      ]
     },
     "execution_count": 11,
     "metadata": {},
     "output_type": "execute_result"
    }
   ],
   "source": [
    "# Дата анализа\n",
    "analysis_date = pd.to_datetime(\"2021-07-03\")\n",
    "\n",
    "# Берём только событие оформления заказа\n",
    "orders = data[data['event'] == 'order'].copy()\n",
    "\n",
    "# RFM-группировка\n",
    "rfm = (orders.groupby('user_id')\n",
    "              .agg({\n",
    "                  'datetime': lambda x: (analysis_date - x.max()).days,  # давность\n",
    "                  'order_id': 'nunique',  # уникальные заказы\n",
    "                  'revenue': 'sum'        # суммарный доход\n",
    "              })\n",
    "              .rename(columns={'datetime': 'Recency',\n",
    "                               'order_id': 'Frequency',\n",
    "                               'revenue': 'Monetary'}))\n",
    "\n",
    "rfm.head()"
   ]
  },
  {
   "cell_type": "code",
   "execution_count": 12,
   "id": "3915b1be",
   "metadata": {},
   "outputs": [
    {
     "data": {
      "image/png": "[encoded data removed]",
      "text/plain": [
       "<Figure size 1296x360 with 3 Axes>"
      ]
     },
     "metadata": {
      "needs_background": "light"
     },
     "output_type": "display_data"
    }
   ],
   "source": [
    "fig, axes = plt.subplots(1, 3, figsize=(18, 5))\n",
    "\n",
    "axes[0].hist(rfm['Recency'], bins=30, color='skyblue', edgecolor='black')\n",
    "axes[0].set_title('Давность (Recency)')\n",
    "axes[0].set_xlabel('Дни с последней покупки')\n",
    "axes[0].set_ylabel('Количество пользователей')\n",
    "\n",
    "axes[1].hist(rfm['Frequency'], bins=30, color='lightgreen', edgecolor='black')\n",
    "axes[1].set_title('Частота покупок (Frequency)')\n",
    "axes[1].set_xlabel('Число заказов')\n",
    "\n",
    "axes[2].hist(rfm['Monetary'], bins=30, color='salmon', edgecolor='black')\n",
    "axes[2].set_title('Сумма трат (Monetary)')\n",
    "axes[2].set_xlabel('Общая сумма заказов, руб.')\n",
    "\n",
    "plt.tight_layout()\n",
    "plt.show()"
   ]
  },
  {
   "cell_type": "markdown",
   "id": "6f079217",
   "metadata": {},
   "source": [
    "По полученным результатам видно, что у сервиса проблемы с удержанием: много разовых покупателей, постоянные пользователи есть, но они быстро перестают возвращаться."
   ]
  },
  {
   "cell_type": "markdown",
   "id": "dad0c7d9",
   "metadata": {
    "id": "dad0c7d9"
   },
   "source": [
    "**Задача 3.2.** Выделите **RFM-сегменты** и изучите распределение пользователей по ним.\n",
    "    \n",
    "Примените следующие подходы к выделению RFM сегментов:\n",
    "- **Recency** — разделите на три равные группы.\n",
    "- **Frequency** —  разделите на три группы: \n",
    "    - пользователи с 1 заказом (F-сегмент с небольшим количеством заказов);\n",
    "    - пользователи с 2 заказами (F-сегмент со средним количеством заказов);\n",
    "    - пользователи с 3 и более заказами (F-сегмент с большим количеством заказов).\n",
    "- **Monetary** — разделите на три группы по 33-му и 66-му перцентилям.\n",
    "    \n",
    "После этого посчитайте количество покупателей в каждом сегменте, сделайте промежуточные выводы и напишите рекомендации."
   ]
  },
  {
   "cell_type": "code",
   "execution_count": 13,
   "id": "5d65e66c",
   "metadata": {},
   "outputs": [
    {
     "data": {
      "text/html": [
       "<div>\n",
       "<style scoped>\n",
       "    .dataframe tbody tr th:only-of-type {\n",
       "        vertical-align: middle;\n",
       "    }\n",
       "\n",
       "    .dataframe tbody tr th {\n",
       "        vertical-align: top;\n",
       "    }\n",
       "\n",
       "    .dataframe thead th {\n",
       "        text-align: right;\n",
       "    }\n",
       "</style>\n",
       "<table border=\"1\" class=\"dataframe\">\n",
       "  <thead>\n",
       "    <tr style=\"text-align: right;\">\n",
       "      <th></th>\n",
       "      <th>Recency</th>\n",
       "      <th>Frequency</th>\n",
       "      <th>Monetary</th>\n",
       "      <th>R_score</th>\n",
       "      <th>F_score</th>\n",
       "      <th>M_score</th>\n",
       "      <th>RFM_segment</th>\n",
       "    </tr>\n",
       "    <tr>\n",
       "      <th>user_id</th>\n",
       "      <th></th>\n",
       "      <th></th>\n",
       "      <th></th>\n",
       "      <th></th>\n",
       "      <th></th>\n",
       "      <th></th>\n",
       "      <th></th>\n",
       "    </tr>\n",
       "  </thead>\n",
       "  <tbody>\n",
       "    <tr>\n",
       "      <th>5506</th>\n",
       "      <td>32</td>\n",
       "      <td>2</td>\n",
       "      <td>3752.00</td>\n",
       "      <td>2</td>\n",
       "      <td>2</td>\n",
       "      <td>3</td>\n",
       "      <td>223</td>\n",
       "    </tr>\n",
       "    <tr>\n",
       "      <th>6291</th>\n",
       "      <td>57</td>\n",
       "      <td>1</td>\n",
       "      <td>1750.00</td>\n",
       "      <td>1</td>\n",
       "      <td>1</td>\n",
       "      <td>1</td>\n",
       "      <td>111</td>\n",
       "    </tr>\n",
       "    <tr>\n",
       "      <th>6820</th>\n",
       "      <td>41</td>\n",
       "      <td>1</td>\n",
       "      <td>1260.14</td>\n",
       "      <td>2</td>\n",
       "      <td>1</td>\n",
       "      <td>1</td>\n",
       "      <td>211</td>\n",
       "    </tr>\n",
       "    <tr>\n",
       "      <th>11062</th>\n",
       "      <td>57</td>\n",
       "      <td>1</td>\n",
       "      <td>3785.60</td>\n",
       "      <td>1</td>\n",
       "      <td>1</td>\n",
       "      <td>3</td>\n",
       "      <td>113</td>\n",
       "    </tr>\n",
       "    <tr>\n",
       "      <th>13254</th>\n",
       "      <td>54</td>\n",
       "      <td>1</td>\n",
       "      <td>553.00</td>\n",
       "      <td>1</td>\n",
       "      <td>1</td>\n",
       "      <td>1</td>\n",
       "      <td>111</td>\n",
       "    </tr>\n",
       "  </tbody>\n",
       "</table>\n",
       "</div>"
      ],
      "text/plain": [
       "         Recency  Frequency  Monetary R_score  F_score M_score RFM_segment\n",
       "user_id                                                                   \n",
       "5506          32          2   3752.00       2        2       3         223\n",
       "6291          57          1   1750.00       1        1       1         111\n",
       "6820          41          1   1260.14       2        1       1         211\n",
       "11062         57          1   3785.60       1        1       3         113\n",
       "13254         54          1    553.00       1        1       1         111"
      ]
     },
     "execution_count": 13,
     "metadata": {},
     "output_type": "execute_result"
    }
   ],
   "source": [
    "rfm_seg = rfm.copy()\n",
    "recency_min = rfm_seg['Recency'].min()\n",
    "recency_max = rfm_seg['Recency'].max()\n",
    "interval = (recency_max - recency_min) / 3\n",
    "recency_bins = [recency_min, recency_min + interval, recency_min + 2*interval, recency_max]\n",
    "\n",
    "rfm_seg['R_score'] = pd.cut(rfm_seg['Recency'], bins=recency_bins, labels=[3, 2, 1], include_lowest=True)\n",
    "\n",
    "def f_segment(x):\n",
    "    if x == 1:\n",
    "        return 1\n",
    "    elif x == 2:\n",
    "        return 2\n",
    "    else:\n",
    "        return 3\n",
    "\n",
    "rfm_seg['F_score'] = rfm_seg['Frequency'].apply(f_segment)\n",
    "\n",
    "m_bins = rfm_seg['Monetary'].quantile([0, 0.33, 0.66, 1]).values\n",
    "rfm_seg['M_score'] = pd.cut(rfm_seg['Monetary'], bins=m_bins, labels=[1, 2, 3], include_lowest=True)\n",
    "\n",
    "rfm_seg['RFM_segment'] = (\n",
    "    rfm_seg['R_score'].astype(str) + \n",
    "    rfm_seg['F_score'].astype(str) + \n",
    "    rfm_seg['M_score'].astype(str)\n",
    ")\n",
    "\n",
    "rfm_seg.head()\n"
   ]
  },
  {
   "cell_type": "code",
   "execution_count": 14,
   "id": "2d83253c",
   "metadata": {},
   "outputs": [
    {
     "data": {
      "text/plain": [
       "Recency\n",
       "0      0\n",
       "1      1\n",
       "2      2\n",
       "3      3\n",
       "4      4\n",
       "      ..\n",
       "58    58\n",
       "59    59\n",
       "60    60\n",
       "61    61\n",
       "62    62\n",
       "Name: Recency, Length: 63, dtype: int64"
      ]
     },
     "metadata": {},
     "output_type": "display_data"
    },
    {
     "data": {
      "text/plain": [
       "20.666666666666668"
      ]
     },
     "execution_count": 14,
     "metadata": {},
     "output_type": "execute_result"
    }
   ],
   "source": [
    "# Код ревьюера:\n",
    "display(rfm_seg.groupby('Recency')['Recency'].max())\n",
    "\n",
    "# Рассчитаем три равных интервала:\n",
    "(rfm_seg['Recency'].max() - rfm_seg['Recency'].min())  / 3"
   ]
  },
  {
   "cell_type": "code",
   "execution_count": 15,
   "id": "d1b2e1c3",
   "metadata": {},
   "outputs": [
    {
     "name": "stdout",
     "output_type": "stream",
     "text": [
      "Распределение по Recency:\n",
      "3    749\n",
      "2    934\n",
      "1    733\n",
      "Name: R_score, dtype: int64\n",
      "\n",
      "Распределение по Frequency:\n",
      "1    1709\n",
      "2     473\n",
      "3     234\n",
      "Name: F_score, dtype: int64\n",
      "\n",
      "Распределение по Monetary:\n",
      "1    800\n",
      "2    794\n",
      "3    822\n",
      "Name: M_score, dtype: int64\n",
      "\n",
      "Топ-10 RFM-сегментов:\n",
      "211    280\n",
      "311    244\n",
      "111    244\n",
      "212    234\n",
      "112    210\n",
      "312    185\n",
      "213    126\n",
      "223    119\n",
      "233    105\n",
      "313    102\n",
      "Name: RFM_segment, dtype: int64\n"
     ]
    }
   ],
   "source": [
    "print(\"Распределение по Recency:\")\n",
    "print(rfm_seg['R_score'].value_counts().sort_index())\n",
    "\n",
    "print(\"\\nРаспределение по Frequency:\")\n",
    "print(rfm_seg['F_score'].value_counts().sort_index())\n",
    "\n",
    "print(\"\\nРаспределение по Monetary:\")\n",
    "print(rfm_seg['M_score'].value_counts().sort_index())\n",
    "\n",
    "seg_counts = rfm_seg['RFM_segment'].value_counts()\n",
    "print(\"\\nТоп-10 RFM-сегментов:\")\n",
    "print(seg_counts.head(10))"
   ]
  },
  {
   "cell_type": "markdown",
   "id": "c68f68d9",
   "metadata": {},
   "source": [
    "В итоге видно, что большинство клиентов сделали только один заказ, при этом часть из них приносит средний или высокий доход.\n",
    "\n",
    "Рекомендации по сегментам.\n",
    "- Сегменты с 1 заказом (F=1): Мотивировать на повторную покупку: email-кампании, акции, скидки на второй заказ. Для клиентов с высоким чеком (M=3) можно ввести персональные предложения, upsell.\n",
    "\n",
    "- Сегменты с 2–3 заказами (F=2-3): Стимулировать увеличение LTV через кросс-продажи и программы лояльности. Для средних и высоких чеков (M=2-3) предложить VIP-предложения, премиальные подписки.\n",
    "\n",
    "- Сегменты с низкой активностью (R=1-2): Реанимация «спящих» клиентов через персональные письма, ремаркетинг и бонусы.\n",
    "\n",
    "- Сегменты свежих клиентов (R=3): Фокус на удержание, повторные покупки, бонусы за регистрацию и первый повторный заказ."
   ]
  },
  {
   "cell_type": "markdown",
   "id": "50194012",
   "metadata": {
    "id": "50194012"
   },
   "source": [
    "---\n",
    "\n",
    "## 4. K-Means кластеризация\n",
    "\n",
    "Чтобы лучше понимать поведение ресторанов и предлагать им персонализированные условия сотрудничества, а также создавать персонализированные предложения для пользователей, маркетологи запросили кластеризацию ресторанов по следующим параметрам:\n",
    "- общее количество заказов;\n",
    "- средняя стоимость заказа;\n",
    "- общее число заказанных уникальных блюд (ассортимент ресторана).\n",
    "\n",
    "С помощью метода K-Means разделите рестораны на кластеры, отражающие различные модели работы и целевые сегменты. Это позволяет выделить группы ресторанов с похожими характеристиками и разрабатывать для них эффективные маркетинговые стратегии."
   ]
  },
  {
   "cell_type": "markdown",
   "id": "3227a337",
   "metadata": {
    "id": "3227a337"
   },
   "source": [
    "**Задача 4.1.** Подготовьте данные для кластеризации и для каждого ресторана подсчитайте:\n",
    "- общее количество заказов;\n",
    "- средняя стоимость заказа;\n",
    "- общее число заказанных уникальных блюд (ассортимент ресторана)."
   ]
  },
  {
   "cell_type": "code",
   "execution_count": 16,
   "id": "09b6887f",
   "metadata": {},
   "outputs": [
    {
     "data": {
      "text/html": [
       "<div>\n",
       "<style scoped>\n",
       "    .dataframe tbody tr th:only-of-type {\n",
       "        vertical-align: middle;\n",
       "    }\n",
       "\n",
       "    .dataframe tbody tr th {\n",
       "        vertical-align: top;\n",
       "    }\n",
       "\n",
       "    .dataframe thead th {\n",
       "        text-align: right;\n",
       "    }\n",
       "</style>\n",
       "<table border=\"1\" class=\"dataframe\">\n",
       "  <thead>\n",
       "    <tr style=\"text-align: right;\">\n",
       "      <th></th>\n",
       "      <th>rest_id</th>\n",
       "      <th>total_orders</th>\n",
       "      <th>avg_order_value</th>\n",
       "      <th>unique_dishes</th>\n",
       "    </tr>\n",
       "  </thead>\n",
       "  <tbody>\n",
       "    <tr>\n",
       "      <th>0</th>\n",
       "      <td>1be5a933aab34fbab594bebba48e976e</td>\n",
       "      <td>144</td>\n",
       "      <td>2260.180222</td>\n",
       "      <td>28</td>\n",
       "    </tr>\n",
       "    <tr>\n",
       "      <th>1</th>\n",
       "      <td>1d6bb74687104fa1953924c9684fe624</td>\n",
       "      <td>108</td>\n",
       "      <td>2959.256481</td>\n",
       "      <td>19</td>\n",
       "    </tr>\n",
       "    <tr>\n",
       "      <th>2</th>\n",
       "      <td>2c6095730b514c189ee41c65f03febc3</td>\n",
       "      <td>8</td>\n",
       "      <td>1673.000000</td>\n",
       "      <td>4</td>\n",
       "    </tr>\n",
       "    <tr>\n",
       "      <th>3</th>\n",
       "      <td>3247a3b5f9494812a3c1a73c5b61f004</td>\n",
       "      <td>33</td>\n",
       "      <td>2777.209697</td>\n",
       "      <td>4</td>\n",
       "    </tr>\n",
       "    <tr>\n",
       "      <th>4</th>\n",
       "      <td>39b7eab4f4704ed2886fafe171489960</td>\n",
       "      <td>33</td>\n",
       "      <td>2011.269697</td>\n",
       "      <td>5</td>\n",
       "    </tr>\n",
       "  </tbody>\n",
       "</table>\n",
       "</div>"
      ],
      "text/plain": [
       "                            rest_id  total_orders  avg_order_value  \\\n",
       "0  1be5a933aab34fbab594bebba48e976e           144      2260.180222   \n",
       "1  1d6bb74687104fa1953924c9684fe624           108      2959.256481   \n",
       "2  2c6095730b514c189ee41c65f03febc3             8      1673.000000   \n",
       "3  3247a3b5f9494812a3c1a73c5b61f004            33      2777.209697   \n",
       "4  39b7eab4f4704ed2886fafe171489960            33      2011.269697   \n",
       "\n",
       "   unique_dishes  \n",
       "0             28  \n",
       "1             19  \n",
       "2              4  \n",
       "3              4  \n",
       "4              5  "
      ]
     },
     "execution_count": 16,
     "metadata": {},
     "output_type": "execute_result"
    }
   ],
   "source": [
    "orders = data[data['event'] == 'order'].copy()\n",
    "\n",
    "# Группировка по ресторанам\n",
    "rest_stats = orders.groupby('rest_id').agg({\n",
    "    'order_id': 'nunique',\n",
    "    'revenue': 'mean',\n",
    "    'object_id': 'nunique'\n",
    "}).reset_index()\n",
    "\n",
    "rest_stats = rest_stats.rename(columns={\n",
    "    'order_id': 'total_orders',\n",
    "    'revenue': 'avg_order_value',\n",
    "    'object_id': 'unique_dishes'\n",
    "})\n",
    "\n",
    "rest_stats.head()"
   ]
  },
  {
   "cell_type": "markdown",
   "id": "ed6f3e7f",
   "metadata": {},
   "source": [
    "На данном этапе уже видно, что рестораны можно разделить на некоторые сегменты: популярные, малопопулярные, дорогие и средние, с широким или узким ассортиментом."
   ]
  },
  {
   "cell_type": "markdown",
   "id": "0b271d55",
   "metadata": {
    "id": "662740fb",
    "outputId": "811c9e15-7a09-4da3-d2ef-acf26fc62d13"
   },
   "source": [
    "**Задача 4.2.** Нормализуйте данные и найдите оптимальное количество кластеров, использовав метод `.inertia_`. Постройте график зависимости инерции от числа кластеров (метод «локтя») и предположите оптимальное количество кластеров."
   ]
  },
  {
   "cell_type": "code",
   "execution_count": 17,
   "id": "96c37415",
   "metadata": {},
   "outputs": [
    {
     "data": {
      "image/png": "[encoded data removed]",
      "text/plain": [
       "<Figure size 576x360 with 1 Axes>"
      ]
     },
     "metadata": {
      "needs_background": "light"
     },
     "output_type": "display_data"
    }
   ],
   "source": [
    "# Берём нужные признаки\n",
    "X = rest_stats[['total_orders', 'avg_order_value', 'unique_dishes']]\n",
    "\n",
    "# Нормализация (стандартизация)\n",
    "scaler = StandardScaler()\n",
    "X_scaled = scaler.fit_transform(X)\n",
    "\n",
    "# Метод локтя\n",
    "inertia = []\n",
    "K = range(1, 11)  # проверим k от 1 до 10\n",
    "\n",
    "for k in K:\n",
    "    kmeans = KMeans(n_clusters=k, random_state=42, n_init=10)\n",
    "    kmeans.fit(X_scaled)\n",
    "    inertia.append(kmeans.inertia_)\n",
    "\n",
    "# График\n",
    "plt.figure(figsize=(8,5))\n",
    "plt.plot(K, inertia, marker='o')\n",
    "plt.xlabel('Количество кластеров (k)')\n",
    "plt.ylabel('Inertia')\n",
    "plt.title('Метод локтя для подбора числа кластеров')\n",
    "plt.grid(True)\n",
    "plt.show()"
   ]
  },
  {
   "cell_type": "markdown",
   "id": "a840720d",
   "metadata": {},
   "source": [
    "Интерпретируя этот график, стоит отметить, что k=3 - базовое и самое логичное количество кластеров в данном случае. Мы можем использовать три сегмента ресторанов. Такие, как популярные, средние, непопулярные."
   ]
  },
  {
   "cell_type": "markdown",
   "id": "74002482",
   "metadata": {
    "id": "74002482"
   },
   "source": [
    "**Задача 4.3.** Проведите кластеризацию, проанализируйте полученные результаты и рассчитайте средние значения по каждому кластеру.\n",
    "    \n",
    "После этого визуализируйте результаты, чтобы проследить зависимость признаков друг от друга. Постройте две визуализации, на которые нанесите все кластеры:\n",
    "- средний чек в зависимости от количества заказов;\n",
    "- количество блюд в зависимости от количества заказов.\n",
    "\n",
    "После этого опишите каждый кластер в промежуточном выводе. "
   ]
  },
  {
   "cell_type": "code",
   "execution_count": 19,
   "id": "bbeeebb4",
   "metadata": {},
   "outputs": [
    {
     "name": "stdout",
     "output_type": "stream",
     "text": [
      "   cluster  total_orders  avg_order_value  unique_dishes  restaurants_count\n",
      "0        0         69.60      2167.856491              9                 15\n",
      "1        1       1100.00      2498.828802             83                  2\n",
      "2        2         76.25      4048.497783              5                  4\n"
     ]
    }
   ],
   "source": [
    "# Берём данные\n",
    "X = rest_stats[['total_orders', 'avg_order_value', 'unique_dishes']]\n",
    "\n",
    "# Нормализация\n",
    "scaler = StandardScaler()\n",
    "X_scaled = scaler.fit_transform(X)\n",
    "\n",
    "# KMeans с 3 кластерами\n",
    "kmeans = KMeans(n_clusters=3, random_state=42, n_init=10)\n",
    "rest_stats['cluster'] = kmeans.fit_predict(X_scaled)\n",
    "\n",
    "# Средние значения по кластерам\n",
    "cluster_summary = rest_stats.groupby('cluster').agg({\n",
    "    'total_orders': 'mean',\n",
    "    'avg_order_value': 'mean',\n",
    "    'unique_dishes': 'mean',\n",
    "    'rest_id': 'count'\n",
    "}).rename(columns={'rest_id': 'restaurants_count'}).reset_index()\n",
    "\n",
    "print(cluster_summary)"
   ]
  },
  {
   "cell_type": "markdown",
   "id": "5dfa67ea",
   "metadata": {},
   "source": [
    "Выводы по кластерам:\n",
    "- Кластер 0 — небольшие рестораны с низким количеством заказов. Для роста стоит стимулировать увеличение числа заказов через акции, скидки или маркетинговые кампании.\n",
    "\n",
    "- Кластер 1 — топ-рестораны с большим объёмом продаж и широким ассортиментом.\n",
    "\n",
    "- Кластер 2 — рестораны с высоким чеком и ограниченным меню. Конкретно их ценность в среднем чеке."
   ]
  },
  {
   "cell_type": "code",
   "execution_count": 20,
   "id": "375cb50e",
   "metadata": {},
   "outputs": [
    {
     "data": {
      "image/png": "[encoded data removed]",
      "text/plain": [
       "<Figure size 576x432 with 1 Axes>"
      ]
     },
     "metadata": {
      "needs_background": "light"
     },
     "output_type": "display_data"
    },
    {
     "data": {
      "image/png": "[encoded data removed]",
      "text/plain": [
       "<Figure size 576x432 with 1 Axes>"
      ]
     },
     "metadata": {
      "needs_background": "light"
     },
     "output_type": "display_data"
    }
   ],
   "source": [
    "plt.figure(figsize=(8,6))\n",
    "sns.scatterplot(data=rest_stats, x='total_orders', y='avg_order_value',\n",
    "                hue='cluster', palette='Set1', alpha=0.7)\n",
    "plt.title('Кластеры: средний чек vs количество заказов')\n",
    "plt.xlabel('Количество заказов')\n",
    "plt.ylabel('Средний чек')\n",
    "plt.legend(title='Кластер')\n",
    "plt.show()\n",
    "\n",
    "plt.figure(figsize=(8,6))\n",
    "sns.scatterplot(data=rest_stats, x='total_orders', y='unique_dishes',\n",
    "                hue='cluster', palette='Set1', alpha=0.7)\n",
    "plt.title('Кластеры: ассортимент блюд vs количество заказов')\n",
    "plt.xlabel('Количество заказов')\n",
    "plt.ylabel('Количество уникальных блюд')\n",
    "plt.legend(title='Кластер')\n",
    "plt.show()"
   ]
  },
  {
   "cell_type": "markdown",
   "id": "d907815f",
   "metadata": {},
   "source": [
    "По полученным данным можно сделать вывод, что сервис работает в основном за счёт немногих популярных ресторанов, у которых широкий ассортимент и много заказов. Есть также премиальные рестораны, у которых высокая цена и ограниченный ассортимент. Большинство ресторанов попадают в кластер 0 — низкие показатели по всем метрикам. Возможно, им нужны рекламные продвижения."
   ]
  },
  {
   "cell_type": "markdown",
   "id": "268ed4c1",
   "metadata": {
    "id": "50194012"
   },
   "source": [
    "---\n",
    "\n",
    "## 5. Итоговый вывод и рекомендации\n",
    "\n",
    "Сформулируйте общий вывод. Зафиксируйте основные результаты и инсайты, которые, на ваш взгляд, помогут бизнесу улучшить продукт.\n",
    "\n",
    "Выводы должны быть краткими и ёмкими, ведь их будут читать ваш заказчик, продуктовый менеджер и продуктовая команда."
   ]
  },
  {
   "cell_type": "markdown",
   "id": "52164b43",
   "metadata": {},
   "source": [
    "На данный момент сервис имеет стабильный поток новых пользователей и заказы от топ-ресторанов, но теряет почти всех новых клиентов на старте и в повторных покупках.\n",
    "\n",
    "Рекомендации по сегментам:\n",
    "- Сегменты с 1 заказом (F=1): Мотивировать на повторную покупку: email-кампании, акции, скидки на второй заказ. Для клиентов с высоким чеком (M=3) можно ввести персональные предложения, upsell.\n",
    "\n",
    "- Сегменты с 2–3 заказами (F=2-3): Стимулировать увеличение LTV через кросс-продажи и программы лояльности. Для средних и высоких чеков (M=2-3) предложить VIP-предложения, премиальные подписки.\n",
    "\n",
    "- Сегменты с низкой активностью (R=1-2): Реанимация «спящих» клиентов через персональные письма, ремаркетинг и бонусы.\n",
    "\n",
    "- Сегменты свежих клиентов (R=3): Фокус на удержание, повторные покупки, бонусы за регистрацию и первый повторный заказ.\n",
    "\n",
    "Вывод по кластеризации:\n",
    "Как уже говорилось ранее, сервис опирается на небольшое количество ресторанов из кластера 1, у которых очень много заказов и широкий ассортимент, ведь именно они приносят основную выручку. Также есть кластер 2 — рестораны с низким количеством заказов, но очень высоким средним чеком, что указывает на их премиальный сегмент. Однако большинство заведений относятся к кластеру 0: имеют низкий средний чек, небольшой ассортимент и немного заказов. Вероятно, им стоит предложить маркетинговое продвижение или улучшение меню для увеличения активности.\n",
    "\n",
    "Общая рекомендация: В ближайших улучшениях стоит задуматься об упрощении мобильной регистрации, усиленном удержании клиентов и работой с непопулярными ресторанами."
   ]
  }
 ],
 "metadata": {
  "ExecuteTimeLog": [
   {
    "duration": 1508,
    "start_time": "2025-09-14T12:37:03.023Z"
   },
   {
    "duration": 1623,
    "start_time": "2025-09-14T12:37:07.175Z"
   },
   {
    "duration": 1182,
    "start_time": "2025-09-14T12:39:57.924Z"
   },
   {
    "duration": 13,
    "start_time": "2025-09-14T12:40:02.061Z"
   },
   {
    "duration": 1144,
    "start_time": "2025-09-14T12:41:17.607Z"
   },
   {
    "duration": 1178,
    "start_time": "2025-09-14T12:41:44.908Z"
   },
   {
    "duration": 22,
    "start_time": "2025-09-14T12:51:37.063Z"
   },
   {
    "duration": 16,
    "start_time": "2025-09-14T12:55:33.647Z"
   },
   {
    "duration": 23,
    "start_time": "2025-09-14T12:55:45.837Z"
   },
   {
    "duration": 24,
    "start_time": "2025-09-14T12:56:18.509Z"
   },
   {
    "duration": 87,
    "start_time": "2025-09-14T12:59:13.979Z"
   },
   {
    "duration": 23,
    "start_time": "2025-09-14T12:59:30.184Z"
   },
   {
    "duration": 53,
    "start_time": "2025-09-14T16:15:24.612Z"
   },
   {
    "duration": 1502,
    "start_time": "2025-09-14T16:15:31.489Z"
   },
   {
    "duration": 1348,
    "start_time": "2025-09-14T16:15:32.993Z"
   },
   {
    "duration": 118,
    "start_time": "2025-09-14T16:15:35.505Z"
   },
   {
    "duration": 27,
    "start_time": "2025-09-14T16:15:36.423Z"
   },
   {
    "duration": 164,
    "start_time": "2025-09-14T16:15:38.709Z"
   },
   {
    "duration": 209,
    "start_time": "2025-09-14T16:27:49.512Z"
   },
   {
    "duration": 491,
    "start_time": "2025-09-14T16:27:52.344Z"
   },
   {
    "duration": 228,
    "start_time": "2025-09-14T16:38:32.089Z"
   },
   {
    "duration": 393,
    "start_time": "2025-09-14T16:38:34.730Z"
   },
   {
    "duration": 225,
    "start_time": "2025-09-14T16:39:18.677Z"
   },
   {
    "duration": 373,
    "start_time": "2025-09-14T16:39:20.682Z"
   },
   {
    "duration": 242,
    "start_time": "2025-09-14T16:56:53.047Z"
   },
   {
    "duration": 707,
    "start_time": "2025-09-14T16:56:55.676Z"
   },
   {
    "duration": 102,
    "start_time": "2025-09-14T17:50:05.359Z"
   },
   {
    "duration": 12,
    "start_time": "2025-09-14T17:50:23.853Z"
   },
   {
    "duration": 20,
    "start_time": "2025-09-14T19:20:19.688Z"
   },
   {
    "duration": 1693,
    "start_time": "2025-09-16T20:40:49.975Z"
   },
   {
    "duration": 118,
    "start_time": "2025-09-16T20:40:59.183Z"
   },
   {
    "duration": 11,
    "start_time": "2025-09-16T20:41:18.831Z"
   },
   {
    "duration": 3,
    "start_time": "2025-09-16T20:41:26.548Z"
   },
   {
    "duration": 1328,
    "start_time": "2025-09-16T20:41:27.760Z"
   },
   {
    "duration": 125,
    "start_time": "2025-09-16T20:41:30.203Z"
   },
   {
    "duration": 27,
    "start_time": "2025-09-16T20:41:31.353Z"
   },
   {
    "duration": 172,
    "start_time": "2025-09-16T20:41:31.751Z"
   },
   {
    "duration": 210,
    "start_time": "2025-09-16T20:41:32.439Z"
   },
   {
    "duration": 479,
    "start_time": "2025-09-16T20:41:32.651Z"
   },
   {
    "duration": 252,
    "start_time": "2025-09-16T20:41:33.132Z"
   },
   {
    "duration": 437,
    "start_time": "2025-09-16T20:41:33.386Z"
   },
   {
    "duration": 240,
    "start_time": "2025-09-16T20:41:33.979Z"
   },
   {
    "duration": 758,
    "start_time": "2025-09-16T20:41:34.221Z"
   },
   {
    "duration": 36,
    "start_time": "2025-09-16T20:41:34.981Z"
   },
   {
    "duration": 13,
    "start_time": "2025-09-16T20:41:35.019Z"
   },
   {
    "duration": 20,
    "start_time": "2025-09-16T20:41:39.465Z"
   },
   {
    "duration": 600,
    "start_time": "2025-09-16T20:41:41.123Z"
   },
   {
    "duration": 34,
    "start_time": "2025-09-16T20:45:59.257Z"
   },
   {
    "duration": 522,
    "start_time": "2025-09-16T20:46:00.879Z"
   },
   {
    "duration": 1399,
    "start_time": "2025-09-16T20:55:51.957Z"
   },
   {
    "duration": 1233,
    "start_time": "2025-09-16T20:55:53.358Z"
   },
   {
    "duration": 139,
    "start_time": "2025-09-16T20:55:54.592Z"
   },
   {
    "duration": 40,
    "start_time": "2025-09-16T20:55:54.734Z"
   },
   {
    "duration": 193,
    "start_time": "2025-09-16T20:55:54.776Z"
   },
   {
    "duration": 228,
    "start_time": "2025-09-16T20:55:54.970Z"
   },
   {
    "duration": 448,
    "start_time": "2025-09-16T20:55:55.200Z"
   },
   {
    "duration": 252,
    "start_time": "2025-09-16T20:55:55.650Z"
   },
   {
    "duration": 421,
    "start_time": "2025-09-16T20:55:55.904Z"
   },
   {
    "duration": 238,
    "start_time": "2025-09-16T20:55:56.327Z"
   },
   {
    "duration": 735,
    "start_time": "2025-09-16T20:55:56.567Z"
   },
   {
    "duration": 24,
    "start_time": "2025-09-16T20:55:57.304Z"
   },
   {
    "duration": 12,
    "start_time": "2025-09-16T20:55:57.330Z"
   },
   {
    "duration": 19,
    "start_time": "2025-09-16T20:55:57.380Z"
   },
   {
    "duration": 594,
    "start_time": "2025-09-16T20:55:57.932Z"
   },
   {
    "duration": 34,
    "start_time": "2025-09-16T20:55:59.442Z"
   },
   {
    "duration": 483,
    "start_time": "2025-09-16T20:56:00.575Z"
   },
   {
    "duration": 3130,
    "start_time": "2025-09-17T06:56:53.127Z"
   },
   {
    "duration": 1209,
    "start_time": "2025-09-17T06:56:56.259Z"
   },
   {
    "duration": 135,
    "start_time": "2025-09-17T06:56:57.470Z"
   },
   {
    "duration": 26,
    "start_time": "2025-09-17T06:56:57.607Z"
   },
   {
    "duration": 200,
    "start_time": "2025-09-17T06:56:57.635Z"
   },
   {
    "duration": 215,
    "start_time": "2025-09-17T06:56:57.836Z"
   },
   {
    "duration": 434,
    "start_time": "2025-09-17T06:56:58.053Z"
   },
   {
    "duration": 242,
    "start_time": "2025-09-17T06:56:58.489Z"
   },
   {
    "duration": 397,
    "start_time": "2025-09-17T06:56:58.733Z"
   },
   {
    "duration": 263,
    "start_time": "2025-09-17T06:56:59.131Z"
   },
   {
    "duration": 774,
    "start_time": "2025-09-17T06:56:59.396Z"
   },
   {
    "duration": 40,
    "start_time": "2025-09-17T06:57:00.172Z"
   },
   {
    "duration": 27,
    "start_time": "2025-09-17T06:57:00.214Z"
   },
   {
    "duration": 141,
    "start_time": "2025-09-17T06:57:00.244Z"
   },
   {
    "duration": 658,
    "start_time": "2025-09-17T06:57:00.387Z"
   },
   {
    "duration": 35,
    "start_time": "2025-09-17T06:57:01.048Z"
   },
   {
    "duration": 525,
    "start_time": "2025-09-17T06:57:01.085Z"
   },
   {
    "duration": 11,
    "start_time": "2025-09-17T07:01:29.260Z"
   },
   {
    "duration": 326,
    "start_time": "2025-09-17T07:02:36.121Z"
   },
   {
    "duration": 47,
    "start_time": "2025-09-17T18:45:12.837Z"
   },
   {
    "duration": 1520,
    "start_time": "2025-09-17T18:45:19.685Z"
   },
   {
    "duration": 1305,
    "start_time": "2025-09-17T18:45:21.207Z"
   },
   {
    "duration": 113,
    "start_time": "2025-09-17T18:45:22.514Z"
   },
   {
    "duration": 23,
    "start_time": "2025-09-17T18:45:22.756Z"
   },
   {
    "duration": 240,
    "start_time": "2025-09-17T18:45:24.490Z"
   },
   {
    "duration": 65,
    "start_time": "2025-09-17T18:46:37.537Z"
   },
   {
    "duration": 215,
    "start_time": "2025-09-17T18:46:39.939Z"
   },
   {
    "duration": 180,
    "start_time": "2025-09-17T18:51:20.949Z"
   },
   {
    "duration": 441,
    "start_time": "2025-09-17T18:51:22.103Z"
   },
   {
    "duration": 211,
    "start_time": "2025-09-17T18:55:19.981Z"
   },
   {
    "duration": 372,
    "start_time": "2025-09-17T18:55:24.093Z"
   },
   {
    "duration": 23,
    "start_time": "2025-09-17T18:58:19.476Z"
   },
   {
    "duration": 428,
    "start_time": "2025-09-17T18:58:23.178Z"
   },
   {
    "duration": 370,
    "start_time": "2025-09-17T18:59:33.325Z"
   },
   {
    "duration": 184,
    "start_time": "2025-09-17T19:02:47.549Z"
   },
   {
    "duration": 558,
    "start_time": "2025-09-17T19:02:52.218Z"
   },
   {
    "duration": 24,
    "start_time": "2025-09-17T19:07:33.977Z"
   },
   {
    "duration": 9,
    "start_time": "2025-09-17T19:07:42.252Z"
   },
   {
    "duration": 12,
    "start_time": "2025-09-17T19:08:24.587Z"
   },
   {
    "duration": 31,
    "start_time": "2025-09-17T19:14:45.090Z"
   },
   {
    "duration": 565,
    "start_time": "2025-09-17T19:15:26.090Z"
   },
   {
    "duration": 43,
    "start_time": "2025-09-17T19:15:49.200Z"
   },
   {
    "duration": 392,
    "start_time": "2025-09-17T19:18:44.850Z"
   },
   {
    "duration": 404,
    "start_time": "2025-09-17T19:20:32.253Z"
   },
   {
    "duration": 1314,
    "start_time": "2025-09-17T19:39:53.340Z"
   },
   {
    "duration": 1392,
    "start_time": "2025-09-17T19:39:54.656Z"
   },
   {
    "duration": 115,
    "start_time": "2025-09-17T19:39:56.050Z"
   },
   {
    "duration": 30,
    "start_time": "2025-09-17T19:39:56.167Z"
   },
   {
    "duration": 256,
    "start_time": "2025-09-17T19:39:56.199Z"
   },
   {
    "duration": 62,
    "start_time": "2025-09-17T19:39:56.456Z"
   },
   {
    "duration": 216,
    "start_time": "2025-09-17T19:40:01.494Z"
   },
   {
    "duration": 424,
    "start_time": "2025-09-17T19:40:02.485Z"
   },
   {
    "duration": 114,
    "start_time": "2025-09-17T19:40:05.021Z"
   },
   {
    "duration": 13,
    "start_time": "2025-09-17T19:40:05.212Z"
   },
   {
    "duration": 38,
    "start_time": "2025-09-17T19:42:26.179Z"
   },
   {
    "duration": 20,
    "start_time": "2025-09-17T19:42:40.768Z"
   },
   {
    "duration": 4,
    "start_time": "2025-09-17T19:43:32.560Z"
   },
   {
    "duration": 55,
    "start_time": "2025-09-17T19:52:30.664Z"
   },
   {
    "duration": 65,
    "start_time": "2025-09-17T19:52:43.429Z"
   },
   {
    "duration": 64,
    "start_time": "2025-09-17T19:54:17.542Z"
   },
   {
    "duration": 42,
    "start_time": "2025-09-17T19:54:34.034Z"
   },
   {
    "duration": 3,
    "start_time": "2025-09-17T19:54:54.722Z"
   },
   {
    "duration": 1162,
    "start_time": "2025-09-17T19:54:55.446Z"
   },
   {
    "duration": 95,
    "start_time": "2025-09-17T19:54:57.541Z"
   },
   {
    "duration": 19,
    "start_time": "2025-09-17T19:54:57.748Z"
   },
   {
    "duration": 205,
    "start_time": "2025-09-17T19:54:58.155Z"
   },
   {
    "duration": 54,
    "start_time": "2025-09-17T19:54:59.171Z"
   },
   {
    "duration": 217,
    "start_time": "2025-09-17T19:55:01.980Z"
   },
   {
    "duration": 444,
    "start_time": "2025-09-17T19:55:03.669Z"
   },
   {
    "duration": 39,
    "start_time": "2025-09-17T19:55:09.764Z"
   },
   {
    "duration": 3,
    "start_time": "2025-09-17T19:56:50.254Z"
   },
   {
    "duration": 567,
    "start_time": "2025-09-17T19:57:51.915Z"
   },
   {
    "duration": 147,
    "start_time": "2025-09-17T19:58:12.734Z"
   },
   {
    "duration": 372,
    "start_time": "2025-09-17T19:58:13.710Z"
   },
   {
    "duration": 190,
    "start_time": "2025-09-17T19:58:17.990Z"
   },
   {
    "duration": 597,
    "start_time": "2025-09-17T19:58:19.172Z"
   },
   {
    "duration": 25,
    "start_time": "2025-09-17T19:58:19.771Z"
   },
   {
    "duration": 9,
    "start_time": "2025-09-17T19:58:20.797Z"
   },
   {
    "duration": 12,
    "start_time": "2025-09-17T19:58:21.665Z"
   },
   {
    "duration": 27,
    "start_time": "2025-09-17T19:58:24.768Z"
   },
   {
    "duration": 547,
    "start_time": "2025-09-17T19:58:26.336Z"
   },
   {
    "duration": 311,
    "start_time": "2025-09-17T19:58:27.748Z"
   },
   {
    "duration": 32,
    "start_time": "2025-09-17T19:58:28.864Z"
   },
   {
    "duration": 409,
    "start_time": "2025-09-17T19:58:30.723Z"
   },
   {
    "duration": 1334,
    "start_time": "2025-09-17T19:59:04.226Z"
   },
   {
    "duration": 1250,
    "start_time": "2025-09-17T19:59:05.570Z"
   },
   {
    "duration": 105,
    "start_time": "2025-09-17T19:59:07.642Z"
   },
   {
    "duration": 24,
    "start_time": "2025-09-17T19:59:08.088Z"
   },
   {
    "duration": 239,
    "start_time": "2025-09-17T19:59:09.260Z"
   },
   {
    "duration": 53,
    "start_time": "2025-09-17T19:59:09.509Z"
   },
   {
    "duration": 205,
    "start_time": "2025-09-17T19:59:11.771Z"
   },
   {
    "duration": 424,
    "start_time": "2025-09-17T19:59:11.979Z"
   },
   {
    "duration": 153,
    "start_time": "2025-09-17T19:59:13.930Z"
   },
   {
    "duration": 354,
    "start_time": "2025-09-17T19:59:14.345Z"
   },
   {
    "duration": 190,
    "start_time": "2025-09-17T19:59:16.107Z"
   },
   {
    "duration": 650,
    "start_time": "2025-09-17T19:59:17.622Z"
   },
   {
    "duration": 24,
    "start_time": "2025-09-17T19:59:19.827Z"
   },
   {
    "duration": 8,
    "start_time": "2025-09-17T19:59:21.244Z"
   },
   {
    "duration": 14,
    "start_time": "2025-09-17T19:59:22.073Z"
   },
   {
    "duration": 36,
    "start_time": "2025-09-17T19:59:24.459Z"
   },
   {
    "duration": 561,
    "start_time": "2025-09-17T19:59:26.533Z"
   },
   {
    "duration": 302,
    "start_time": "2025-09-17T19:59:27.636Z"
   },
   {
    "duration": 30,
    "start_time": "2025-09-17T19:59:28.735Z"
   },
   {
    "duration": 416,
    "start_time": "2025-09-17T19:59:30.318Z"
   },
   {
    "duration": 3588,
    "start_time": "2025-09-18T05:57:55.952Z"
   },
   {
    "duration": 1560,
    "start_time": "2025-09-18T05:57:59.541Z"
   },
   {
    "duration": 147,
    "start_time": "2025-09-18T05:58:01.102Z"
   },
   {
    "duration": 45,
    "start_time": "2025-09-18T05:58:01.251Z"
   },
   {
    "duration": 299,
    "start_time": "2025-09-18T05:58:01.298Z"
   },
   {
    "duration": 82,
    "start_time": "2025-09-18T05:58:01.598Z"
   },
   {
    "duration": 317,
    "start_time": "2025-09-18T05:58:01.689Z"
   },
   {
    "duration": 469,
    "start_time": "2025-09-18T05:58:02.008Z"
   },
   {
    "duration": 211,
    "start_time": "2025-09-18T05:58:02.480Z"
   },
   {
    "duration": 445,
    "start_time": "2025-09-18T05:58:02.696Z"
   },
   {
    "duration": 250,
    "start_time": "2025-09-18T05:58:03.142Z"
   },
   {
    "duration": 861,
    "start_time": "2025-09-18T05:58:03.398Z"
   },
   {
    "duration": 50,
    "start_time": "2025-09-18T05:58:04.260Z"
   },
   {
    "duration": 42,
    "start_time": "2025-09-18T05:58:04.313Z"
   },
   {
    "duration": 24,
    "start_time": "2025-09-18T05:58:04.357Z"
   },
   {
    "duration": 69,
    "start_time": "2025-09-18T05:58:04.389Z"
   },
   {
    "duration": 716,
    "start_time": "2025-09-18T05:58:04.460Z"
   },
   {
    "duration": 363,
    "start_time": "2025-09-18T05:58:05.181Z"
   },
   {
    "duration": 52,
    "start_time": "2025-09-18T05:58:05.546Z"
   },
   {
    "duration": 545,
    "start_time": "2025-09-18T05:58:05.600Z"
   }
  ],
  "colab": {
   "provenance": []
  },
  "kernelspec": {
   "display_name": "Python 3 (ipykernel)",
   "language": "python",
   "name": "python3"
  },
  "language_info": {
   "codemirror_mode": {
    "name": "ipython",
    "version": 3
   },
   "file_extension": ".py",
   "mimetype": "text/x-python",
   "name": "python",
   "nbconvert_exporter": "python",
   "pygments_lexer": "ipython3",
   "version": "3.9.7"
  },
  "toc": {
   "base_numbering": 1,
   "nav_menu": {},
   "number_sections": true,
   "sideBar": true,
   "skip_h1_title": true,
   "title_cell": "Table of Contents",
   "title_sidebar": "Contents",
   "toc_cell": false,
   "toc_position": {
    "height": "calc(100% - 180px)",
    "left": "10px",
    "top": "150px",
    "width": "409.600006px"
   },
   "toc_section_display": true,
   "toc_window_display": true
  }
 },
 "nbformat": 4,
 "nbformat_minor": 5
}
