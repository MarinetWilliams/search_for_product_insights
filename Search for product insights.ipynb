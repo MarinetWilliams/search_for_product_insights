{
 "cells": [
  {
   "cell_type": "markdown",
   "id": "738fcbae",
   "metadata": {},
   "source": [
    "Date: 14.09.2025\n",
    "\n",
    "Author: Maria Vorotnitskaya"
   ]
  },
  {
   "cell_type": "markdown",
   "id": "cd31b396",
   "metadata": {
    "id": "cd31b396"
   },
   "source": [
    "## 1. Data Loading and Preprocessing\n",
    "\n",
    "Load the data and get initial information about it. Perform the necessary preprocessing. Record the basic information about the data and the preprocessing steps in a brief interim summary."
   ]
  },
  {
   "cell_type": "code",
   "execution_count": 1,
   "id": "95c67de5",
   "metadata": {},
   "outputs": [],
   "source": [
    "# Download required libraries\n",
    "import pandas as pd\n",
    "import seaborn as sns\n",
    "import matplotlib.pyplot as plt\n",
    "import numpy as np\n",
    "from sklearn.preprocessing import StandardScaler\n",
    "from sklearn.cluster import KMeans\n",
    "import matplotlib.pyplot as plt"
   ]
  },
  {
   "cell_type": "code",
   "execution_count": 2,
   "id": "c18f9a14",
   "metadata": {
    "scrolled": false
   },
   "outputs": [
    {
     "name": "stdout",
     "output_type": "stream",
     "text": [
      "<class 'pandas.core.frame.DataFrame'>\n",
      "RangeIndex: 205510 entries, 0 to 205509\n",
      "Data columns (total 15 columns):\n",
      " #   Column        Non-Null Count   Dtype  \n",
      "---  ------        --------------   -----  \n",
      " 0   visitor_uuid  205510 non-null  object \n",
      " 1   user_id       205510 non-null  float64\n",
      " 2   device_type   205510 non-null  object \n",
      " 3   city_id       205510 non-null  int64  \n",
      " 4   source        205510 non-null  object \n",
      " 5   first_date    205510 non-null  object \n",
      " 6   visit_id      205510 non-null  int64  \n",
      " 7   event         205510 non-null  object \n",
      " 8   datetime      205510 non-null  object \n",
      " 9   rest_id       166915 non-null  object \n",
      " 10  object_id     21308 non-null   float64\n",
      " 11  order_id      7008 non-null    float64\n",
      " 12  revenue       7008 non-null    float64\n",
      " 13  delivery      7008 non-null    float64\n",
      " 14  commission    21308 non-null   float64\n",
      "dtypes: float64(6), int64(2), object(7)\n",
      "memory usage: 23.5+ MB\n"
     ]
    }
   ],
   "source": [
    "# The path to datasets\n",
    "data = pd.read_csv('https://code.s3.yandex.net/datasets/insides_data.csv')\n",
    "\n",
    "# General information\n",
    "data_info = data.info()"
   ]
  },
  {
   "cell_type": "markdown",
   "id": "6316ef1e",
   "metadata": {},
   "source": [
    "The analysis of the obtained data reveals the following: the dataset contains a total of 205,510 rows and 15 columns.\n",
    "\n",
    "The columns visitor_uuid, device_type, city_id, source, and event show no apparent missing values or incorrect data types. However, it is worth verifying that visitor_uuid is indeed intended to be a string type. The user_id column is fully populated but is stored as a float64 (likely due to NaN values during export); it should most likely be converted to the Int64 type. The first_date and datetime columns require their data type to be changed from string to datetime.\n",
    "\n",
    "The columns rest_id (166,915 non-null), object_id (21,308 non-null), order_id, revenue, delivery (7,008 non-null), and commission (21,308 non-null) are only partially filled. It is necessary to investigate the relationship between these missing values.\n",
    "\n",
    "We will also check this dataset for duplicates and anomalies."
   ]
  },
  {
   "cell_type": "code",
   "execution_count": 7,
   "id": "3e3e1953",
   "metadata": {},
   "outputs": [],
   "source": [
    "# Convert dates\n",
    "data['first_date'] = pd.to_datetime(data['first_date'])\n",
    "data['datetime'] = pd.to_datetime(data['datetime'])\n",
    "\n",
    "data['user_id'] = data['user_id'].astype('Int64')\n",
    "data['order_id'] = data['order_id'].astype('Int64')"
   ]
  },
  {
   "cell_type": "code",
   "execution_count": 8,
   "id": "d5dc8ccb",
   "metadata": {},
   "outputs": [
    {
     "data": {
      "text/html": [
       "<div>\n",
       "<style scoped>\n",
       "    .dataframe tbody tr th:only-of-type {\n",
       "        vertical-align: middle;\n",
       "    }\n",
       "\n",
       "    .dataframe tbody tr th {\n",
       "        vertical-align: top;\n",
       "    }\n",
       "\n",
       "    .dataframe thead th {\n",
       "        text-align: right;\n",
       "    }\n",
       "</style>\n",
       "<table border=\"1\" class=\"dataframe\">\n",
       "  <thead>\n",
       "    <tr style=\"text-align: right;\">\n",
       "      <th></th>\n",
       "      <th>visitor_uuid</th>\n",
       "      <th>user_id</th>\n",
       "      <th>device_type</th>\n",
       "      <th>city_id</th>\n",
       "      <th>source</th>\n",
       "      <th>first_date</th>\n",
       "      <th>visit_id</th>\n",
       "      <th>event</th>\n",
       "      <th>datetime</th>\n",
       "      <th>rest_id</th>\n",
       "      <th>object_id</th>\n",
       "      <th>order_id</th>\n",
       "      <th>revenue</th>\n",
       "      <th>delivery</th>\n",
       "      <th>commission</th>\n",
       "    </tr>\n",
       "  </thead>\n",
       "  <tbody>\n",
       "    <tr>\n",
       "      <th>0</th>\n",
       "      <td>01b5da38-3022-48ff-87c0-5519247fef1b</td>\n",
       "      <td>567317</td>\n",
       "      <td>Desktop</td>\n",
       "      <td>6</td>\n",
       "      <td>Source_B</td>\n",
       "      <td>2021-05-01</td>\n",
       "      <td>171481813</td>\n",
       "      <td>authorization</td>\n",
       "      <td>2021-05-01 16:07:53</td>\n",
       "      <td>NaN</td>\n",
       "      <td>NaN</td>\n",
       "      <td>&lt;NA&gt;</td>\n",
       "      <td>NaN</td>\n",
       "      <td>NaN</td>\n",
       "      <td>NaN</td>\n",
       "    </tr>\n",
       "    <tr>\n",
       "      <th>1</th>\n",
       "      <td>01b5da38-3022-48ff-87c0-5519247fef1b</td>\n",
       "      <td>567317</td>\n",
       "      <td>Desktop</td>\n",
       "      <td>6</td>\n",
       "      <td>Source_B</td>\n",
       "      <td>2021-05-01</td>\n",
       "      <td>171481813</td>\n",
       "      <td>reg_page</td>\n",
       "      <td>2021-05-01 16:09:16</td>\n",
       "      <td>NaN</td>\n",
       "      <td>NaN</td>\n",
       "      <td>&lt;NA&gt;</td>\n",
       "      <td>NaN</td>\n",
       "      <td>NaN</td>\n",
       "      <td>NaN</td>\n",
       "    </tr>\n",
       "    <tr>\n",
       "      <th>2</th>\n",
       "      <td>01b5da38-3022-48ff-87c0-5519247fef1b</td>\n",
       "      <td>567317</td>\n",
       "      <td>Desktop</td>\n",
       "      <td>6</td>\n",
       "      <td>Source_B</td>\n",
       "      <td>2021-05-01</td>\n",
       "      <td>171481813</td>\n",
       "      <td>confirm_phone</td>\n",
       "      <td>2021-05-01 16:09:19</td>\n",
       "      <td>NaN</td>\n",
       "      <td>NaN</td>\n",
       "      <td>&lt;NA&gt;</td>\n",
       "      <td>NaN</td>\n",
       "      <td>NaN</td>\n",
       "      <td>NaN</td>\n",
       "    </tr>\n",
       "    <tr>\n",
       "      <th>3</th>\n",
       "      <td>01b5da38-3022-48ff-87c0-5519247fef1b</td>\n",
       "      <td>567317</td>\n",
       "      <td>Desktop</td>\n",
       "      <td>6</td>\n",
       "      <td>Source_B</td>\n",
       "      <td>2021-05-01</td>\n",
       "      <td>171481813</td>\n",
       "      <td>login</td>\n",
       "      <td>2021-05-01 16:09:23</td>\n",
       "      <td>NaN</td>\n",
       "      <td>NaN</td>\n",
       "      <td>&lt;NA&gt;</td>\n",
       "      <td>NaN</td>\n",
       "      <td>NaN</td>\n",
       "      <td>NaN</td>\n",
       "    </tr>\n",
       "    <tr>\n",
       "      <th>4</th>\n",
       "      <td>01b5da38-3022-48ff-87c0-5519247fef1b</td>\n",
       "      <td>567317</td>\n",
       "      <td>Desktop</td>\n",
       "      <td>6</td>\n",
       "      <td>Source_B</td>\n",
       "      <td>2021-05-01</td>\n",
       "      <td>171481813</td>\n",
       "      <td>main_page</td>\n",
       "      <td>2021-05-01 16:09:34</td>\n",
       "      <td>2c6095730b514c189ee41c65f03febc3</td>\n",
       "      <td>NaN</td>\n",
       "      <td>&lt;NA&gt;</td>\n",
       "      <td>NaN</td>\n",
       "      <td>NaN</td>\n",
       "      <td>NaN</td>\n",
       "    </tr>\n",
       "    <tr>\n",
       "      <th>5</th>\n",
       "      <td>01b5da38-3022-48ff-87c0-5519247fef1b</td>\n",
       "      <td>567317</td>\n",
       "      <td>Desktop</td>\n",
       "      <td>6</td>\n",
       "      <td>Source_B</td>\n",
       "      <td>2021-05-01</td>\n",
       "      <td>171481813</td>\n",
       "      <td>main_page</td>\n",
       "      <td>2021-05-01 16:09:40</td>\n",
       "      <td>2c6095730b514c189ee41c65f03febc3</td>\n",
       "      <td>NaN</td>\n",
       "      <td>&lt;NA&gt;</td>\n",
       "      <td>NaN</td>\n",
       "      <td>NaN</td>\n",
       "      <td>NaN</td>\n",
       "    </tr>\n",
       "    <tr>\n",
       "      <th>6</th>\n",
       "      <td>01b5da38-3022-48ff-87c0-5519247fef1b</td>\n",
       "      <td>567317</td>\n",
       "      <td>Desktop</td>\n",
       "      <td>6</td>\n",
       "      <td>Source_B</td>\n",
       "      <td>2021-05-01</td>\n",
       "      <td>171481813</td>\n",
       "      <td>main_page</td>\n",
       "      <td>2021-05-01 16:09:50</td>\n",
       "      <td>1be5a933aab34fbab594bebba48e976e</td>\n",
       "      <td>NaN</td>\n",
       "      <td>&lt;NA&gt;</td>\n",
       "      <td>NaN</td>\n",
       "      <td>NaN</td>\n",
       "      <td>NaN</td>\n",
       "    </tr>\n",
       "    <tr>\n",
       "      <th>7</th>\n",
       "      <td>01b5da38-3022-48ff-87c0-5519247fef1b</td>\n",
       "      <td>567317</td>\n",
       "      <td>Desktop</td>\n",
       "      <td>6</td>\n",
       "      <td>Source_B</td>\n",
       "      <td>2021-05-01</td>\n",
       "      <td>171481813</td>\n",
       "      <td>main_page</td>\n",
       "      <td>2021-05-01 16:10:04</td>\n",
       "      <td>39b7eab4f4704ed2886fafe171489960</td>\n",
       "      <td>NaN</td>\n",
       "      <td>&lt;NA&gt;</td>\n",
       "      <td>NaN</td>\n",
       "      <td>NaN</td>\n",
       "      <td>NaN</td>\n",
       "    </tr>\n",
       "    <tr>\n",
       "      <th>8</th>\n",
       "      <td>01b5da38-3022-48ff-87c0-5519247fef1b</td>\n",
       "      <td>567317</td>\n",
       "      <td>Desktop</td>\n",
       "      <td>6</td>\n",
       "      <td>Source_B</td>\n",
       "      <td>2021-05-01</td>\n",
       "      <td>171481813</td>\n",
       "      <td>main_page</td>\n",
       "      <td>2021-05-01 16:10:12</td>\n",
       "      <td>39b7eab4f4704ed2886fafe171489960</td>\n",
       "      <td>NaN</td>\n",
       "      <td>&lt;NA&gt;</td>\n",
       "      <td>NaN</td>\n",
       "      <td>NaN</td>\n",
       "      <td>NaN</td>\n",
       "    </tr>\n",
       "    <tr>\n",
       "      <th>9</th>\n",
       "      <td>01b5da38-3022-48ff-87c0-5519247fef1b</td>\n",
       "      <td>567317</td>\n",
       "      <td>Desktop</td>\n",
       "      <td>6</td>\n",
       "      <td>Source_B</td>\n",
       "      <td>2021-05-01</td>\n",
       "      <td>171481813</td>\n",
       "      <td>main_page</td>\n",
       "      <td>2021-05-01 16:10:28</td>\n",
       "      <td>55d6470712ee48e98509478ad6aa18ee</td>\n",
       "      <td>NaN</td>\n",
       "      <td>&lt;NA&gt;</td>\n",
       "      <td>NaN</td>\n",
       "      <td>NaN</td>\n",
       "      <td>NaN</td>\n",
       "    </tr>\n",
       "    <tr>\n",
       "      <th>10</th>\n",
       "      <td>01b5da38-3022-48ff-87c0-5519247fef1b</td>\n",
       "      <td>567317</td>\n",
       "      <td>Desktop</td>\n",
       "      <td>6</td>\n",
       "      <td>Source_B</td>\n",
       "      <td>2021-05-01</td>\n",
       "      <td>171481813</td>\n",
       "      <td>main_page</td>\n",
       "      <td>2021-05-01 16:10:30</td>\n",
       "      <td>59fc1a894303462e8205a759d906499c</td>\n",
       "      <td>NaN</td>\n",
       "      <td>&lt;NA&gt;</td>\n",
       "      <td>NaN</td>\n",
       "      <td>NaN</td>\n",
       "      <td>NaN</td>\n",
       "    </tr>\n",
       "    <tr>\n",
       "      <th>11</th>\n",
       "      <td>01b5da38-3022-48ff-87c0-5519247fef1b</td>\n",
       "      <td>567317</td>\n",
       "      <td>Desktop</td>\n",
       "      <td>6</td>\n",
       "      <td>Source_B</td>\n",
       "      <td>2021-05-01</td>\n",
       "      <td>171481813</td>\n",
       "      <td>main_page</td>\n",
       "      <td>2021-05-01 16:10:32</td>\n",
       "      <td>1d6bb74687104fa1953924c9684fe624</td>\n",
       "      <td>NaN</td>\n",
       "      <td>&lt;NA&gt;</td>\n",
       "      <td>NaN</td>\n",
       "      <td>NaN</td>\n",
       "      <td>NaN</td>\n",
       "    </tr>\n",
       "    <tr>\n",
       "      <th>12</th>\n",
       "      <td>01b5da38-3022-48ff-87c0-5519247fef1b</td>\n",
       "      <td>567317</td>\n",
       "      <td>Desktop</td>\n",
       "      <td>6</td>\n",
       "      <td>Source_B</td>\n",
       "      <td>2021-05-01</td>\n",
       "      <td>171481813</td>\n",
       "      <td>main_page</td>\n",
       "      <td>2021-05-01 16:10:44</td>\n",
       "      <td>8d9fb9d5992f400eaf02660973a66adf</td>\n",
       "      <td>NaN</td>\n",
       "      <td>&lt;NA&gt;</td>\n",
       "      <td>NaN</td>\n",
       "      <td>NaN</td>\n",
       "      <td>NaN</td>\n",
       "    </tr>\n",
       "    <tr>\n",
       "      <th>13</th>\n",
       "      <td>01b5da38-3022-48ff-87c0-5519247fef1b</td>\n",
       "      <td>567317</td>\n",
       "      <td>Desktop</td>\n",
       "      <td>6</td>\n",
       "      <td>Source_B</td>\n",
       "      <td>2021-05-01</td>\n",
       "      <td>171481813</td>\n",
       "      <td>main_page</td>\n",
       "      <td>2021-05-01 16:10:45</td>\n",
       "      <td>a29747e18d3f4ff487b355d34312aacb</td>\n",
       "      <td>NaN</td>\n",
       "      <td>&lt;NA&gt;</td>\n",
       "      <td>NaN</td>\n",
       "      <td>NaN</td>\n",
       "      <td>NaN</td>\n",
       "    </tr>\n",
       "    <tr>\n",
       "      <th>14</th>\n",
       "      <td>01b5da38-3022-48ff-87c0-5519247fef1b</td>\n",
       "      <td>567317</td>\n",
       "      <td>Desktop</td>\n",
       "      <td>6</td>\n",
       "      <td>Source_B</td>\n",
       "      <td>2021-05-01</td>\n",
       "      <td>171481813</td>\n",
       "      <td>main_page</td>\n",
       "      <td>2021-05-01 16:10:54</td>\n",
       "      <td>a29747e18d3f4ff487b355d34312aacb</td>\n",
       "      <td>NaN</td>\n",
       "      <td>&lt;NA&gt;</td>\n",
       "      <td>NaN</td>\n",
       "      <td>NaN</td>\n",
       "      <td>NaN</td>\n",
       "    </tr>\n",
       "    <tr>\n",
       "      <th>15</th>\n",
       "      <td>01b5da38-3022-48ff-87c0-5519247fef1b</td>\n",
       "      <td>567317</td>\n",
       "      <td>Desktop</td>\n",
       "      <td>6</td>\n",
       "      <td>Source_B</td>\n",
       "      <td>2021-05-01</td>\n",
       "      <td>171481813</td>\n",
       "      <td>main_page</td>\n",
       "      <td>2021-05-01 16:10:58</td>\n",
       "      <td>a29747e18d3f4ff487b355d34312aacb</td>\n",
       "      <td>NaN</td>\n",
       "      <td>&lt;NA&gt;</td>\n",
       "      <td>NaN</td>\n",
       "      <td>NaN</td>\n",
       "      <td>NaN</td>\n",
       "    </tr>\n",
       "    <tr>\n",
       "      <th>16</th>\n",
       "      <td>01b5da38-3022-48ff-87c0-5519247fef1b</td>\n",
       "      <td>567317</td>\n",
       "      <td>Desktop</td>\n",
       "      <td>6</td>\n",
       "      <td>Source_B</td>\n",
       "      <td>2021-05-01</td>\n",
       "      <td>171481813</td>\n",
       "      <td>object_page</td>\n",
       "      <td>2021-05-01 16:11:33</td>\n",
       "      <td>8d9fb9d5992f400eaf02660973a66adf</td>\n",
       "      <td>25110.0</td>\n",
       "      <td>&lt;NA&gt;</td>\n",
       "      <td>NaN</td>\n",
       "      <td>NaN</td>\n",
       "      <td>0.05</td>\n",
       "    </tr>\n",
       "    <tr>\n",
       "      <th>17</th>\n",
       "      <td>01b5da38-3022-48ff-87c0-5519247fef1b</td>\n",
       "      <td>567317</td>\n",
       "      <td>Desktop</td>\n",
       "      <td>6</td>\n",
       "      <td>Source_B</td>\n",
       "      <td>2021-05-01</td>\n",
       "      <td>171481813</td>\n",
       "      <td>login</td>\n",
       "      <td>2021-05-01 16:13:14</td>\n",
       "      <td>NaN</td>\n",
       "      <td>NaN</td>\n",
       "      <td>&lt;NA&gt;</td>\n",
       "      <td>NaN</td>\n",
       "      <td>NaN</td>\n",
       "      <td>NaN</td>\n",
       "    </tr>\n",
       "    <tr>\n",
       "      <th>18</th>\n",
       "      <td>01b5da38-3022-48ff-87c0-5519247fef1b</td>\n",
       "      <td>567317</td>\n",
       "      <td>Desktop</td>\n",
       "      <td>6</td>\n",
       "      <td>Source_B</td>\n",
       "      <td>2021-05-01</td>\n",
       "      <td>171481813</td>\n",
       "      <td>add_to_cart</td>\n",
       "      <td>2021-05-01 16:13:22</td>\n",
       "      <td>55d4027ac83e438f9f893892f6903409</td>\n",
       "      <td>25069.0</td>\n",
       "      <td>590437</td>\n",
       "      <td>2800.0</td>\n",
       "      <td>30.9</td>\n",
       "      <td>0.05</td>\n",
       "    </tr>\n",
       "    <tr>\n",
       "      <th>19</th>\n",
       "      <td>02920ee1-ae61-4e0c-b457-b24077b52c42</td>\n",
       "      <td>181094</td>\n",
       "      <td>Desktop</td>\n",
       "      <td>4</td>\n",
       "      <td>Source_B</td>\n",
       "      <td>2021-05-01</td>\n",
       "      <td>171462891</td>\n",
       "      <td>authorization</td>\n",
       "      <td>2021-05-01 14:49:14</td>\n",
       "      <td>NaN</td>\n",
       "      <td>NaN</td>\n",
       "      <td>&lt;NA&gt;</td>\n",
       "      <td>NaN</td>\n",
       "      <td>NaN</td>\n",
       "      <td>NaN</td>\n",
       "    </tr>\n",
       "  </tbody>\n",
       "</table>\n",
       "</div>"
      ],
      "text/plain": [
       "                            visitor_uuid  user_id device_type  city_id  \\\n",
       "0   01b5da38-3022-48ff-87c0-5519247fef1b   567317     Desktop        6   \n",
       "1   01b5da38-3022-48ff-87c0-5519247fef1b   567317     Desktop        6   \n",
       "2   01b5da38-3022-48ff-87c0-5519247fef1b   567317     Desktop        6   \n",
       "3   01b5da38-3022-48ff-87c0-5519247fef1b   567317     Desktop        6   \n",
       "4   01b5da38-3022-48ff-87c0-5519247fef1b   567317     Desktop        6   \n",
       "5   01b5da38-3022-48ff-87c0-5519247fef1b   567317     Desktop        6   \n",
       "6   01b5da38-3022-48ff-87c0-5519247fef1b   567317     Desktop        6   \n",
       "7   01b5da38-3022-48ff-87c0-5519247fef1b   567317     Desktop        6   \n",
       "8   01b5da38-3022-48ff-87c0-5519247fef1b   567317     Desktop        6   \n",
       "9   01b5da38-3022-48ff-87c0-5519247fef1b   567317     Desktop        6   \n",
       "10  01b5da38-3022-48ff-87c0-5519247fef1b   567317     Desktop        6   \n",
       "11  01b5da38-3022-48ff-87c0-5519247fef1b   567317     Desktop        6   \n",
       "12  01b5da38-3022-48ff-87c0-5519247fef1b   567317     Desktop        6   \n",
       "13  01b5da38-3022-48ff-87c0-5519247fef1b   567317     Desktop        6   \n",
       "14  01b5da38-3022-48ff-87c0-5519247fef1b   567317     Desktop        6   \n",
       "15  01b5da38-3022-48ff-87c0-5519247fef1b   567317     Desktop        6   \n",
       "16  01b5da38-3022-48ff-87c0-5519247fef1b   567317     Desktop        6   \n",
       "17  01b5da38-3022-48ff-87c0-5519247fef1b   567317     Desktop        6   \n",
       "18  01b5da38-3022-48ff-87c0-5519247fef1b   567317     Desktop        6   \n",
       "19  02920ee1-ae61-4e0c-b457-b24077b52c42   181094     Desktop        4   \n",
       "\n",
       "      source first_date   visit_id          event            datetime  \\\n",
       "0   Source_B 2021-05-01  171481813  authorization 2021-05-01 16:07:53   \n",
       "1   Source_B 2021-05-01  171481813       reg_page 2021-05-01 16:09:16   \n",
       "2   Source_B 2021-05-01  171481813  confirm_phone 2021-05-01 16:09:19   \n",
       "3   Source_B 2021-05-01  171481813          login 2021-05-01 16:09:23   \n",
       "4   Source_B 2021-05-01  171481813      main_page 2021-05-01 16:09:34   \n",
       "5   Source_B 2021-05-01  171481813      main_page 2021-05-01 16:09:40   \n",
       "6   Source_B 2021-05-01  171481813      main_page 2021-05-01 16:09:50   \n",
       "7   Source_B 2021-05-01  171481813      main_page 2021-05-01 16:10:04   \n",
       "8   Source_B 2021-05-01  171481813      main_page 2021-05-01 16:10:12   \n",
       "9   Source_B 2021-05-01  171481813      main_page 2021-05-01 16:10:28   \n",
       "10  Source_B 2021-05-01  171481813      main_page 2021-05-01 16:10:30   \n",
       "11  Source_B 2021-05-01  171481813      main_page 2021-05-01 16:10:32   \n",
       "12  Source_B 2021-05-01  171481813      main_page 2021-05-01 16:10:44   \n",
       "13  Source_B 2021-05-01  171481813      main_page 2021-05-01 16:10:45   \n",
       "14  Source_B 2021-05-01  171481813      main_page 2021-05-01 16:10:54   \n",
       "15  Source_B 2021-05-01  171481813      main_page 2021-05-01 16:10:58   \n",
       "16  Source_B 2021-05-01  171481813    object_page 2021-05-01 16:11:33   \n",
       "17  Source_B 2021-05-01  171481813          login 2021-05-01 16:13:14   \n",
       "18  Source_B 2021-05-01  171481813    add_to_cart 2021-05-01 16:13:22   \n",
       "19  Source_B 2021-05-01  171462891  authorization 2021-05-01 14:49:14   \n",
       "\n",
       "                             rest_id  object_id  order_id  revenue  delivery  \\\n",
       "0                                NaN        NaN      <NA>      NaN       NaN   \n",
       "1                                NaN        NaN      <NA>      NaN       NaN   \n",
       "2                                NaN        NaN      <NA>      NaN       NaN   \n",
       "3                                NaN        NaN      <NA>      NaN       NaN   \n",
       "4   2c6095730b514c189ee41c65f03febc3        NaN      <NA>      NaN       NaN   \n",
       "5   2c6095730b514c189ee41c65f03febc3        NaN      <NA>      NaN       NaN   \n",
       "6   1be5a933aab34fbab594bebba48e976e        NaN      <NA>      NaN       NaN   \n",
       "7   39b7eab4f4704ed2886fafe171489960        NaN      <NA>      NaN       NaN   \n",
       "8   39b7eab4f4704ed2886fafe171489960        NaN      <NA>      NaN       NaN   \n",
       "9   55d6470712ee48e98509478ad6aa18ee        NaN      <NA>      NaN       NaN   \n",
       "10  59fc1a894303462e8205a759d906499c        NaN      <NA>      NaN       NaN   \n",
       "11  1d6bb74687104fa1953924c9684fe624        NaN      <NA>      NaN       NaN   \n",
       "12  8d9fb9d5992f400eaf02660973a66adf        NaN      <NA>      NaN       NaN   \n",
       "13  a29747e18d3f4ff487b355d34312aacb        NaN      <NA>      NaN       NaN   \n",
       "14  a29747e18d3f4ff487b355d34312aacb        NaN      <NA>      NaN       NaN   \n",
       "15  a29747e18d3f4ff487b355d34312aacb        NaN      <NA>      NaN       NaN   \n",
       "16  8d9fb9d5992f400eaf02660973a66adf    25110.0      <NA>      NaN       NaN   \n",
       "17                               NaN        NaN      <NA>      NaN       NaN   \n",
       "18  55d4027ac83e438f9f893892f6903409    25069.0    590437   2800.0      30.9   \n",
       "19                               NaN        NaN      <NA>      NaN       NaN   \n",
       "\n",
       "    commission  \n",
       "0          NaN  \n",
       "1          NaN  \n",
       "2          NaN  \n",
       "3          NaN  \n",
       "4          NaN  \n",
       "5          NaN  \n",
       "6          NaN  \n",
       "7          NaN  \n",
       "8          NaN  \n",
       "9          NaN  \n",
       "10         NaN  \n",
       "11         NaN  \n",
       "12         NaN  \n",
       "13         NaN  \n",
       "14         NaN  \n",
       "15         NaN  \n",
       "16        0.05  \n",
       "17         NaN  \n",
       "18        0.05  \n",
       "19         NaN  "
      ]
     },
     "execution_count": 8,
     "metadata": {},
     "output_type": "execute_result"
    }
   ],
   "source": [
    "# Print the first 20 lines\n",
    "data.head(20)"
   ]
  },
  {
   "cell_type": "markdown",
   "id": "1c8069df",
   "metadata": {},
   "source": [
    "It is clear that the missing values in the dataset are logically conditioned. The `rest_id` column is filled only when the action is related to a restaurant; `object_id` appears only for dish cards and orders; `order_id`, `revenue`, and `delivery` are only present for orders; and `commission` is populated only where there is a restaurant/dish involved. This essentially represents different levels of event granularity. Now, let's proceed with converting the data types for specific columns."
   ]
  },
  {
   "cell_type": "code",
   "execution_count": 15,
   "id": "363cde6d",
   "metadata": {},
   "outputs": [
    {
     "name": "stdout",
     "output_type": "stream",
     "text": [
      "Number of implicit duplicates: 0\n",
      "Unique users: 8473\n",
      "Unique restaurants: 21\n",
      "Unique orders: 4443\n",
      "Unique dishes: 603\n",
      "The data is presented for the period: 2021-05-01 00:10:55 — 2021-07-02 00:12:08\n"
     ]
    }
   ],
   "source": [
    "# Checking for duplicates\n",
    "data.duplicated().sum()\n",
    "\n",
    "# Checking for implicit duplicates (by key fields)\n",
    "duplicates = data.duplicated(subset=['user_id', 'datetime', 'event']).sum()\n",
    "print(f\"Number of implicit duplicates: {duplicates}\")\n",
    "\n",
    "# Checking the number of unique users and restaurants.\n",
    "unique_users = data['user_id'].nunique()\n",
    "unique_restaurants = data['rest_id'].nunique()\n",
    "print(f\"Unique users: {unique_users}\")\n",
    "print(f\"Unique restaurants: {unique_restaurants}\")\n",
    "\n",
    "unique_orders = data['order_id'].nunique()\n",
    "unique_dishes = data['object_id'].nunique()\n",
    "print(f\"Unique orders: {unique_orders}\")\n",
    "print(f\"Unique dishes: {unique_dishes}\")\n",
    "\n",
    "date_min = data['datetime'].min()\n",
    "date_max = data['datetime'].max()\n",
    "print(f\"The data is presented for the period: {date_min} — {date_max}\")"
   ]
  },
  {
   "cell_type": "code",
   "execution_count": 10,
   "id": "058d2e01",
   "metadata": {},
   "outputs": [],
   "source": [
    "# Removing implicit duplicates\n",
    "data = data.drop_duplicates(subset=['user_id','datetime','event'])"
   ]
  },
  {
   "cell_type": "markdown",
   "id": "79a28aa8",
   "metadata": {},
   "source": [
    "At the moment, we can say that the data preprocessing has been done well, as we have adjusted all the data to the right type and performed the necessary check for \"dirty\" omissions and duplicates."
   ]
  },
  {
   "cell_type": "markdown",
   "id": "e7c9d578",
   "metadata": {
    "id": "e7c9d578"
   },
   "source": [
    "---\n",
    "\n",
    "## 2. User Path Analysis\n",
    "\n",
    "Marketers began to notice the following: money is still being spent on advertising, and there are fewer orders. And this is despite the fact that the application is being downloaded and installed as actively as before. It feels like the users are getting lost somewhere. At the same time, the share of orders from the desktop version of the app increased compared to the mobile version.\n",
    "\n",
    "The developers say that the latest updates to the mobile version of the application should not have affected the catalog of dishes or its choice for ordering and subsequent payment for delivery, as the changes concerned the new algorithm for confirming the mobile phone and the delivery address.\n",
    "\n",
    "Use funnels to study the general user path of new users, then compare the behavior of users of the mobile and desktop versions of the application."
   ]
  },
  {
   "cell_type": "markdown",
   "id": "cf47ab0a",
   "metadata": {},
   "source": [
    "**Task 2.1.** Build and visualize the overall funnel (based on all data), then describe the user journey: which stages are present, what is their sequence, and at which stage (or stages) the majority of new users are lost.\n",
    "\n",
    "When solving the task, build two types of funnels:\n",
    "\n",
    "- **A classic funnel** — showing the percentage relative to the first step.\n",
    "\n",
    "- **A step-by-step funnel** — showing the conversion rate from the previous stage.\n",
    "\n",
    "It is assumed that a user follows this path to place an order for dish delivery from restaurants:\n",
    "\n",
    "1. `authorization` — user authorization / app launch.\n",
    "\n",
    "2. `main_page` — loading the main application page.\n",
    "\n",
    "3. `reg_page` — navigating to the registration page.\n",
    "\n",
    "4. `confirm_phone` — phone confirmation (completing the registration process).\n",
    "\n",
    "5. `object_page` — dish page.\n",
    "\n",
    "6. `add_to_cart` — proceeding to the cart.\n",
    "\n",
    "7. `order` — placing an order."
   ]
  },
  {
   "cell_type": "code",
   "execution_count": 11,
   "id": "f3d8bcd0",
   "metadata": {},
   "outputs": [],
   "source": [
    "# Selecting funnel steps\n",
    "steps = ['authorization', 'main_page', 'reg_page', 'confirm_phone', 'object_page', 'add_to_cart', 'order']\n",
    "\n",
    "# Selecting new users\n",
    "first_event_date = data.groupby('visitor_uuid')['datetime'].min().dt.date.rename('first_event_date')\n",
    "first_date_per_visitor = data.groupby('visitor_uuid')['first_date'].first().rename('first_date')\n",
    "visitors = pd.concat([first_event_date, first_date_per_visitor], axis=1)\n",
    "visitors['is_new'] = visitors['first_event_date'] == visitors['first_date']\n",
    "new_visitors = visitors[visitors['is_new']].index.tolist()\n",
    "\n",
    "data_new = data[data['visitor_uuid'].isin(new_visitors)].copy()\n",
    "\n",
    "# Creating a table of events\n",
    "ev = (data_new[data_new['event'].isin(steps)]\n",
    "      .sort_values('datetime')\n",
    "      .groupby(['visitor_uuid','event'])['datetime']\n",
    "      .min()\n",
    "      .unstack(fill_value=pd.NaT))\n",
    "\n",
    "for s in steps:\n",
    "    if s not in ev.columns:\n",
    "        ev[s] = pd.NaT\n",
    "ev = ev[steps]"
   ]
  },
  {
   "cell_type": "code",
   "execution_count": 12,
   "id": "03b92fce",
   "metadata": {},
   "outputs": [
    {
     "name": "stdout",
     "output_type": "stream",
     "text": [
      "General funnel (new users):\n"
     ]
    },
    {
     "data": {
      "text/html": [
       "<div>\n",
       "<style scoped>\n",
       "    .dataframe tbody tr th:only-of-type {\n",
       "        vertical-align: middle;\n",
       "    }\n",
       "\n",
       "    .dataframe tbody tr th {\n",
       "        vertical-align: top;\n",
       "    }\n",
       "\n",
       "    .dataframe thead th {\n",
       "        text-align: right;\n",
       "    }\n",
       "</style>\n",
       "<table border=\"1\" class=\"dataframe\">\n",
       "  <thead>\n",
       "    <tr style=\"text-align: right;\">\n",
       "      <th></th>\n",
       "      <th>count</th>\n",
       "      <th>classic_%</th>\n",
       "      <th>step_%</th>\n",
       "    </tr>\n",
       "  </thead>\n",
       "  <tbody>\n",
       "    <tr>\n",
       "      <th>authorization</th>\n",
       "      <td>6931</td>\n",
       "      <td>100.00</td>\n",
       "      <td>NaN</td>\n",
       "    </tr>\n",
       "    <tr>\n",
       "      <th>main_page</th>\n",
       "      <td>6068</td>\n",
       "      <td>87.55</td>\n",
       "      <td>87.55</td>\n",
       "    </tr>\n",
       "    <tr>\n",
       "      <th>reg_page</th>\n",
       "      <td>5649</td>\n",
       "      <td>81.50</td>\n",
       "      <td>93.09</td>\n",
       "    </tr>\n",
       "    <tr>\n",
       "      <th>confirm_phone</th>\n",
       "      <td>4347</td>\n",
       "      <td>62.72</td>\n",
       "      <td>76.95</td>\n",
       "    </tr>\n",
       "    <tr>\n",
       "      <th>object_page</th>\n",
       "      <td>2946</td>\n",
       "      <td>42.50</td>\n",
       "      <td>67.77</td>\n",
       "    </tr>\n",
       "    <tr>\n",
       "      <th>add_to_cart</th>\n",
       "      <td>2223</td>\n",
       "      <td>32.07</td>\n",
       "      <td>75.46</td>\n",
       "    </tr>\n",
       "    <tr>\n",
       "      <th>order</th>\n",
       "      <td>1795</td>\n",
       "      <td>25.90</td>\n",
       "      <td>80.75</td>\n",
       "    </tr>\n",
       "  </tbody>\n",
       "</table>\n",
       "</div>"
      ],
      "text/plain": [
       "               count  classic_%  step_%\n",
       "authorization   6931     100.00     NaN\n",
       "main_page       6068      87.55   87.55\n",
       "reg_page        5649      81.50   93.09\n",
       "confirm_phone   4347      62.72   76.95\n",
       "object_page     2946      42.50   67.77\n",
       "add_to_cart     2223      32.07   75.46\n",
       "order           1795      25.90   80.75"
      ]
     },
     "metadata": {},
     "output_type": "display_data"
    },
    {
     "data": {
      "image/png": "[encoded data removed]",
      "text/plain": [
       "<Figure size 1008x360 with 2 Axes>"
      ]
     },
     "metadata": {
      "needs_background": "light"
     },
     "output_type": "display_data"
    }
   ],
   "source": [
    "# Counting the funnel\n",
    "def funnel_counts(ev_df, steps):\n",
    "    counts = {}\n",
    "    for step in steps:\n",
    "        counts[step] = ev_df[step].notna().sum()\n",
    "    return pd.Series(counts)\n",
    "\n",
    "# The number of users at each step\n",
    "counts = funnel_counts(ev, steps)\n",
    "\n",
    "# A table with metrics\n",
    "funnel = pd.DataFrame(index=steps)\n",
    "funnel['count'] = counts\n",
    "funnel['classic_%'] = funnel['count'] / funnel['count'].iloc[0] * 100\n",
    "funnel['step_%'] = funnel['count'] / funnel['count'].shift(1) * 100\n",
    "funnel = funnel.round(2)\n",
    "\n",
    "print(\"General funnel (new users):\")\n",
    "display(funnel)\n",
    "\n",
    "# Visualization\n",
    "fig, axes = plt.subplots(1, 2, figsize=(14,5))\n",
    "\n",
    "# The classic funnel\n",
    "axes[0].bar(funnel.index, funnel['classic_%'])\n",
    "axes[0].set_ylim(0, 100)\n",
    "axes[0].set_title('Classic funnel (% of the first step)')\n",
    "for i, v in enumerate(funnel['classic_%']):\n",
    "    axes[0].text(i, v + 1, f\"{v:.1f}%\", ha='center')\n",
    "\n",
    "# Step-by-step funnel\n",
    "axes[1].bar(funnel.index, funnel['step_%'].fillna(0))\n",
    "axes[1].set_ylim(0, 100)\n",
    "axes[1].set_title('Step-by-step funnel')\n",
    "for i, v in enumerate(funnel['step_%'].fillna(0)):\n",
    "    axes[1].text(i, v + 1, f\"{v:.1f}%\", ha='center')\n",
    "\n",
    "plt.tight_layout()\n",
    "plt.show()"
   ]
  },
  {
   "cell_type": "markdown",
   "id": "4f4df3e9",
   "metadata": {},
   "source": [
    "The constructed funnels reveal that a significant user drop-off occurs at the registration and phone confirmation stages. Although 26% of new users proceed to place an order, the verification process itself appears to be the most vulnerable point. This is linked to recent changes in the algorithm for verifying mobile phone numbers and delivery addresses."
   ]
  },
  {
   "cell_type": "markdown",
   "id": "d18e73af",
   "metadata": {},
   "source": [
    "**Task 2.2.** Compare the user journey between the two applications: the mobile version and the desktop version. To do this, build and visualize **two step-by-step funnels**: for new users of the **mobile** and **desktop** versions of the application.\n",
    "\n",
    "Compare the results with each other and analyze whether there are differences in the user journey for the different applications. Describe the results of the comparison in a brief **interim conclusion**."
   ]
  },
  {
   "cell_type": "code",
   "execution_count": 13,
   "id": "fdd93c9b",
   "metadata": {},
   "outputs": [],
   "source": [
    "first_device = data_new.sort_values('datetime').groupby('visitor_uuid')['device_type'].first().rename('first_device')\n",
    "ev = (data_new[data_new['event'].isin(steps)]\n",
    "       .sort_values('datetime')\n",
    "       .groupby(['visitor_uuid','event'])['datetime']\n",
    "       .min()\n",
    "       .unstack(fill_value=pd.NaT))\n",
    " \n",
    "for s in steps:\n",
    "    if s not in ev.columns:\n",
    "        ev[s] = pd.NaT\n",
    "        ev = ev[steps]\n",
    "\n",
    "# Simple counting function\n",
    "def counts_by_step(ev_df, steps):\n",
    "    return ev_df[steps].notna().sum()\n",
    "\n",
    "# Count for each device \n",
    "devices_to_compare = [d for d in ['Desktop','Mobile'] if d in first_device.unique().tolist()]\n",
    "counts_by_device = {}\n",
    "step_pct_by_device = {}\n",
    "\n",
    "for dev in devices_to_compare:\n",
    "    uids = first_device[first_device == dev].index\n",
    "    ev_sub = ev.reindex(uids).fillna(pd.NaT)\n",
    "\n",
    "    counts = counts_by_step(ev_sub, steps)\n",
    "    counts_by_device[dev] = counts\n",
    "\n",
    "    step_pct = []\n",
    "    for i, cur in enumerate(steps):\n",
    "        if i == 0:\n",
    "            step_pct.append(np.nan)\n",
    "            continue\n",
    "        prev = steps[i-1]\n",
    "        prev_mask_sum = ev_sub[prev].notna().sum()\n",
    "        both_sum = (ev_sub[prev].notna() & ev_sub[cur].notna()).sum()\n",
    "        pct = (both_sum / prev_mask_sum * 100) if prev_mask_sum > 0 else np.nan\n",
    "        step_pct.append(round(pct, 2))\n",
    "    step_pct_by_device[dev] = step_pct\n",
    "\n",
    "counts_df = pd.DataFrame(counts_by_device).astype(int)\n",
    "step_pct_df = pd.DataFrame(step_pct_by_device, index=steps).round(2)"
   ]
  },
  {
   "cell_type": "code",
   "execution_count": 16,
   "id": "0727970e",
   "metadata": {},
   "outputs": [
    {
     "name": "stdout",
     "output_type": "stream",
     "text": [
      "Absolute numbers:\n"
     ]
    },
    {
     "data": {
      "text/html": [
       "<div>\n",
       "<style scoped>\n",
       "    .dataframe tbody tr th:only-of-type {\n",
       "        vertical-align: middle;\n",
       "    }\n",
       "\n",
       "    .dataframe tbody tr th {\n",
       "        vertical-align: top;\n",
       "    }\n",
       "\n",
       "    .dataframe thead th {\n",
       "        text-align: right;\n",
       "    }\n",
       "</style>\n",
       "<table border=\"1\" class=\"dataframe\">\n",
       "  <thead>\n",
       "    <tr style=\"text-align: right;\">\n",
       "      <th></th>\n",
       "      <th>Desktop</th>\n",
       "      <th>Mobile</th>\n",
       "    </tr>\n",
       "    <tr>\n",
       "      <th>event</th>\n",
       "      <th></th>\n",
       "      <th></th>\n",
       "    </tr>\n",
       "  </thead>\n",
       "  <tbody>\n",
       "    <tr>\n",
       "      <th>authorization</th>\n",
       "      <td>4305</td>\n",
       "      <td>2626</td>\n",
       "    </tr>\n",
       "    <tr>\n",
       "      <th>main_page</th>\n",
       "      <td>3882</td>\n",
       "      <td>2186</td>\n",
       "    </tr>\n",
       "    <tr>\n",
       "      <th>reg_page</th>\n",
       "      <td>3546</td>\n",
       "      <td>2103</td>\n",
       "    </tr>\n",
       "    <tr>\n",
       "      <th>confirm_phone</th>\n",
       "      <td>3197</td>\n",
       "      <td>1150</td>\n",
       "    </tr>\n",
       "    <tr>\n",
       "      <th>object_page</th>\n",
       "      <td>2246</td>\n",
       "      <td>700</td>\n",
       "    </tr>\n",
       "    <tr>\n",
       "      <th>add_to_cart</th>\n",
       "      <td>1651</td>\n",
       "      <td>572</td>\n",
       "    </tr>\n",
       "    <tr>\n",
       "      <th>order</th>\n",
       "      <td>1315</td>\n",
       "      <td>480</td>\n",
       "    </tr>\n",
       "  </tbody>\n",
       "</table>\n",
       "</div>"
      ],
      "text/plain": [
       "               Desktop  Mobile\n",
       "event                         \n",
       "authorization     4305    2626\n",
       "main_page         3882    2186\n",
       "reg_page          3546    2103\n",
       "confirm_phone     3197    1150\n",
       "object_page       2246     700\n",
       "add_to_cart       1651     572\n",
       "order             1315     480"
      ]
     },
     "metadata": {},
     "output_type": "display_data"
    },
    {
     "name": "stdout",
     "output_type": "stream",
     "text": [
      "\n",
      "Step-by-step conversion rate (%):\n"
     ]
    },
    {
     "data": {
      "text/html": [
       "<div>\n",
       "<style scoped>\n",
       "    .dataframe tbody tr th:only-of-type {\n",
       "        vertical-align: middle;\n",
       "    }\n",
       "\n",
       "    .dataframe tbody tr th {\n",
       "        vertical-align: top;\n",
       "    }\n",
       "\n",
       "    .dataframe thead th {\n",
       "        text-align: right;\n",
       "    }\n",
       "</style>\n",
       "<table border=\"1\" class=\"dataframe\">\n",
       "  <thead>\n",
       "    <tr style=\"text-align: right;\">\n",
       "      <th></th>\n",
       "      <th>Desktop</th>\n",
       "      <th>Mobile</th>\n",
       "    </tr>\n",
       "  </thead>\n",
       "  <tbody>\n",
       "    <tr>\n",
       "      <th>authorization</th>\n",
       "      <td>NaN</td>\n",
       "      <td>NaN</td>\n",
       "    </tr>\n",
       "    <tr>\n",
       "      <th>main_page</th>\n",
       "      <td>82.07</td>\n",
       "      <td>76.09</td>\n",
       "    </tr>\n",
       "    <tr>\n",
       "      <th>reg_page</th>\n",
       "      <td>73.47</td>\n",
       "      <td>69.85</td>\n",
       "    </tr>\n",
       "    <tr>\n",
       "      <th>confirm_phone</th>\n",
       "      <td>89.59</td>\n",
       "      <td>54.59</td>\n",
       "    </tr>\n",
       "    <tr>\n",
       "      <th>object_page</th>\n",
       "      <td>64.06</td>\n",
       "      <td>47.39</td>\n",
       "    </tr>\n",
       "    <tr>\n",
       "      <th>add_to_cart</th>\n",
       "      <td>57.70</td>\n",
       "      <td>53.14</td>\n",
       "    </tr>\n",
       "    <tr>\n",
       "      <th>order</th>\n",
       "      <td>61.66</td>\n",
       "      <td>60.31</td>\n",
       "    </tr>\n",
       "  </tbody>\n",
       "</table>\n",
       "</div>"
      ],
      "text/plain": [
       "               Desktop  Mobile\n",
       "authorization      NaN     NaN\n",
       "main_page        82.07   76.09\n",
       "reg_page         73.47   69.85\n",
       "confirm_phone    89.59   54.59\n",
       "object_page      64.06   47.39\n",
       "add_to_cart      57.70   53.14\n",
       "order            61.66   60.31"
      ]
     },
     "metadata": {},
     "output_type": "display_data"
    },
    {
     "name": "stdout",
     "output_type": "stream",
     "text": [
      "\n",
      "Number of users with the 'order' event by device:\n",
      "Desktop    1315\n",
      "Mobile      480\n",
      "Name: order, dtype: int32\n"
     ]
    },
    {
     "data": {
      "image/png": "[encoded data removed]",
      "text/plain": [
       "<Figure size 792x432 with 1 Axes>"
      ]
     },
     "metadata": {
      "needs_background": "light"
     },
     "output_type": "display_data"
    }
   ],
   "source": [
    "print(\"Absolute numbers:\")\n",
    "display(counts_df)\n",
    "\n",
    "print(\"\\nStep-by-step conversion rate (%):\")\n",
    "display(step_pct_df)\n",
    "print(\"\\nNumber of users with the 'order' event by device:\")\n",
    "print(counts_df.loc['order'])\n",
    "\n",
    "fig, ax = plt.subplots(figsize=(11,6))\n",
    "step_pct_df.plot(kind='bar', ax=ax)\n",
    "ax.set_ylabel('Conversion from the previous step, %')\n",
    "ax.set_ylim(0, 100)\n",
    "ax.set_title('Step-by-step conversion — Desktop vs Mobile (new users)')\n",
    "ax.legend(title='Device')\n",
    "plt.xticks(rotation=30)\n",
    "\n",
    "for p in ax.patches:\n",
    "    height = p.get_height()\n",
    "    if not np.isnan(height) and height > 0:\n",
    "        ax.annotate(f'{height:.1f}%',\n",
    "                    (p.get_x() + p.get_width() / 2., height),\n",
    "                    ha='center', va='bottom', fontsize=9)\n",
    "\n",
    "plt.tight_layout()\n",
    "plt.show()"
   ]
  },
  {
   "cell_type": "markdown",
   "id": "b69a54db",
   "metadata": {},
   "source": [
    "The key problem of the mobile application is a sharp failure at the stage of mobile phone verification. After registration, mobile users get noticeably more lost: they go to view dishes worse, add them to the basket less often and place an order.\n",
    "\n",
    "As a result, 480 out of 2,626 new mobile users placed an order, and 1,315 out of 4,305 desktop users. This confirms the observations of marketers: mobile users actively download the application, but disappear during registration, which leads to a significant decrease in the number of orders."
   ]
  },
  {
   "cell_type": "markdown",
   "id": "688346cf",
   "metadata": {
    "id": "688346cf"
   },
   "source": [
    "---\n",
    "\n",
    "## 3. RFM Segmentation\n",
    "\n",
    "The food delivery service has relatively low user retention: approximately 14% of visitors return on the first day, and by the seventh day, this drops to just 4-5%. Marketing specialists want to launch several advertising campaigns aimed at retaining paying users and bringing them back to the service if they haven't placed orders for a long time.\n",
    "\n",
    "To achieve this, it's necessary to segment users into different behavioral segments using RFM segmentation based on three metrics:\n",
    "\n",
    "- **Recency**\n",
    "\n",
    "- **Frequency**\n",
    "\n",
    "- **Monetary**\n",
    "\n",
    "Set the analysis date to **July 3, 2021**."
   ]
  },
  {
   "cell_type": "markdown",
   "id": "524ad6fa",
   "metadata": {},
   "source": [
    "**Task 3.1.** For each customer, calculate:\n",
    "\n",
    "- The number of days since their last purchase — Recency (R);\n",
    "\n",
    "- Purchase Frequency (F);\n",
    "\n",
    "- The total value of all purchases — Monetary (M).\n",
    "\n",
    "Set the analysis date to **July 3, 2021**. After this, build three histograms and analyze them."
   ]
  },
  {
   "cell_type": "code",
   "execution_count": 17,
   "id": "f3604a9f",
   "metadata": {},
   "outputs": [
    {
     "data": {
      "text/html": [
       "<div>\n",
       "<style scoped>\n",
       "    .dataframe tbody tr th:only-of-type {\n",
       "        vertical-align: middle;\n",
       "    }\n",
       "\n",
       "    .dataframe tbody tr th {\n",
       "        vertical-align: top;\n",
       "    }\n",
       "\n",
       "    .dataframe thead th {\n",
       "        text-align: right;\n",
       "    }\n",
       "</style>\n",
       "<table border=\"1\" class=\"dataframe\">\n",
       "  <thead>\n",
       "    <tr style=\"text-align: right;\">\n",
       "      <th></th>\n",
       "      <th>Recency</th>\n",
       "      <th>Frequency</th>\n",
       "      <th>Monetary</th>\n",
       "    </tr>\n",
       "    <tr>\n",
       "      <th>user_id</th>\n",
       "      <th></th>\n",
       "      <th></th>\n",
       "      <th></th>\n",
       "    </tr>\n",
       "  </thead>\n",
       "  <tbody>\n",
       "    <tr>\n",
       "      <th>5506</th>\n",
       "      <td>32</td>\n",
       "      <td>2</td>\n",
       "      <td>3752.00</td>\n",
       "    </tr>\n",
       "    <tr>\n",
       "      <th>6291</th>\n",
       "      <td>57</td>\n",
       "      <td>1</td>\n",
       "      <td>1750.00</td>\n",
       "    </tr>\n",
       "    <tr>\n",
       "      <th>6820</th>\n",
       "      <td>41</td>\n",
       "      <td>1</td>\n",
       "      <td>1260.14</td>\n",
       "    </tr>\n",
       "    <tr>\n",
       "      <th>11062</th>\n",
       "      <td>57</td>\n",
       "      <td>1</td>\n",
       "      <td>3785.60</td>\n",
       "    </tr>\n",
       "    <tr>\n",
       "      <th>13254</th>\n",
       "      <td>54</td>\n",
       "      <td>1</td>\n",
       "      <td>553.00</td>\n",
       "    </tr>\n",
       "  </tbody>\n",
       "</table>\n",
       "</div>"
      ],
      "text/plain": [
       "         Recency  Frequency  Monetary\n",
       "user_id                              \n",
       "5506          32          2   3752.00\n",
       "6291          57          1   1750.00\n",
       "6820          41          1   1260.14\n",
       "11062         57          1   3785.60\n",
       "13254         54          1    553.00"
      ]
     },
     "execution_count": 17,
     "metadata": {},
     "output_type": "execute_result"
    }
   ],
   "source": [
    "# Date of analysis\n",
    "analysis_date = pd.to_datetime(\"2021-07-03\")\n",
    "\n",
    "orders = data[data['event'] == 'order'].copy()\n",
    "\n",
    "# RFM grouping\n",
    "rfm = (orders.groupby('user_id')\n",
    "              .agg({\n",
    "                  'datetime': lambda x: (analysis_date - x.max()).days,\n",
    "                  'order_id': 'nunique',\n",
    "                  'revenue': 'sum'\n",
    "              })\n",
    "              .rename(columns={'datetime': 'Recency',\n",
    "                               'order_id': 'Frequency',\n",
    "                               'revenue': 'Monetary'}))\n",
    "\n",
    "rfm.head()"
   ]
  },
  {
   "cell_type": "code",
   "execution_count": 18,
   "id": "3915b1be",
   "metadata": {},
   "outputs": [
    {
     "data": {
      "image/png": "[encoded data removed]",
      "text/plain": [
       "<Figure size 1296x360 with 3 Axes>"
      ]
     },
     "metadata": {
      "needs_background": "light"
     },
     "output_type": "display_data"
    }
   ],
   "source": [
    "fig, axes = plt.subplots(1, 3, figsize=(18, 5))\n",
    "\n",
    "axes[0].hist(rfm['Recency'], bins=30, color='skyblue', edgecolor='black')\n",
    "axes[0].set_title('Recency')\n",
    "axes[0].set_xlabel('Days since the last purchase')\n",
    "axes[0].set_ylabel('Number of users')\n",
    "\n",
    "axes[1].hist(rfm['Frequency'], bins=30, color='lightgreen', edgecolor='black')\n",
    "axes[1].set_title('Frequency')\n",
    "axes[1].set_xlabel('Number of orders')\n",
    "\n",
    "axes[2].hist(rfm['Monetary'], bins=30, color='salmon', edgecolor='black')\n",
    "axes[2].set_title('Monetary')\n",
    "axes[2].set_xlabel('Total amount of orders')\n",
    "\n",
    "plt.tight_layout()\n",
    "plt.show()"
   ]
  },
  {
   "cell_type": "markdown",
   "id": "6f079217",
   "metadata": {},
   "source": [
    "According to the results obtained, the service has problems with retention: there are many one-time buyers, there are regular users, but they quickly stop returning."
   ]
  },
  {
   "cell_type": "markdown",
   "id": "c15d8d47",
   "metadata": {},
   "source": [
    "**Task 3.2.** Identify **RFM segments** and study the distribution of users across them.\n",
    "\n",
    "Apply the following approaches to identify RFM segments:\n",
    "- **Recency** — divide into three equal groups.\n",
    "- **Frequency** — divide into three groups:\n",
    "    - users with 1 order (F-segment with low number of orders);\n",
    "    - users with 2 orders (F-segment with medium number of orders);\n",
    "    - users with 3 or more orders (F-segment with high number of orders).\n",
    "- **Monetary** — divide into three groups using the 33rd and 66th percentiles.\n",
    "\n",
    "After that, calculate the number of customers in each segment, draw intermediate conclusions, and provide recommendations."
   ]
  },
  {
   "cell_type": "code",
   "execution_count": 19,
   "id": "5d65e66c",
   "metadata": {},
   "outputs": [
    {
     "data": {
      "text/html": [
       "<div>\n",
       "<style scoped>\n",
       "    .dataframe tbody tr th:only-of-type {\n",
       "        vertical-align: middle;\n",
       "    }\n",
       "\n",
       "    .dataframe tbody tr th {\n",
       "        vertical-align: top;\n",
       "    }\n",
       "\n",
       "    .dataframe thead th {\n",
       "        text-align: right;\n",
       "    }\n",
       "</style>\n",
       "<table border=\"1\" class=\"dataframe\">\n",
       "  <thead>\n",
       "    <tr style=\"text-align: right;\">\n",
       "      <th></th>\n",
       "      <th>Recency</th>\n",
       "      <th>Frequency</th>\n",
       "      <th>Monetary</th>\n",
       "      <th>R_score</th>\n",
       "      <th>F_score</th>\n",
       "      <th>M_score</th>\n",
       "      <th>RFM_segment</th>\n",
       "    </tr>\n",
       "    <tr>\n",
       "      <th>user_id</th>\n",
       "      <th></th>\n",
       "      <th></th>\n",
       "      <th></th>\n",
       "      <th></th>\n",
       "      <th></th>\n",
       "      <th></th>\n",
       "      <th></th>\n",
       "    </tr>\n",
       "  </thead>\n",
       "  <tbody>\n",
       "    <tr>\n",
       "      <th>5506</th>\n",
       "      <td>32</td>\n",
       "      <td>2</td>\n",
       "      <td>3752.00</td>\n",
       "      <td>2</td>\n",
       "      <td>2</td>\n",
       "      <td>3</td>\n",
       "      <td>223</td>\n",
       "    </tr>\n",
       "    <tr>\n",
       "      <th>6291</th>\n",
       "      <td>57</td>\n",
       "      <td>1</td>\n",
       "      <td>1750.00</td>\n",
       "      <td>1</td>\n",
       "      <td>1</td>\n",
       "      <td>1</td>\n",
       "      <td>111</td>\n",
       "    </tr>\n",
       "    <tr>\n",
       "      <th>6820</th>\n",
       "      <td>41</td>\n",
       "      <td>1</td>\n",
       "      <td>1260.14</td>\n",
       "      <td>2</td>\n",
       "      <td>1</td>\n",
       "      <td>1</td>\n",
       "      <td>211</td>\n",
       "    </tr>\n",
       "    <tr>\n",
       "      <th>11062</th>\n",
       "      <td>57</td>\n",
       "      <td>1</td>\n",
       "      <td>3785.60</td>\n",
       "      <td>1</td>\n",
       "      <td>1</td>\n",
       "      <td>3</td>\n",
       "      <td>113</td>\n",
       "    </tr>\n",
       "    <tr>\n",
       "      <th>13254</th>\n",
       "      <td>54</td>\n",
       "      <td>1</td>\n",
       "      <td>553.00</td>\n",
       "      <td>1</td>\n",
       "      <td>1</td>\n",
       "      <td>1</td>\n",
       "      <td>111</td>\n",
       "    </tr>\n",
       "  </tbody>\n",
       "</table>\n",
       "</div>"
      ],
      "text/plain": [
       "         Recency  Frequency  Monetary R_score  F_score M_score RFM_segment\n",
       "user_id                                                                   \n",
       "5506          32          2   3752.00       2        2       3         223\n",
       "6291          57          1   1750.00       1        1       1         111\n",
       "6820          41          1   1260.14       2        1       1         211\n",
       "11062         57          1   3785.60       1        1       3         113\n",
       "13254         54          1    553.00       1        1       1         111"
      ]
     },
     "execution_count": 19,
     "metadata": {},
     "output_type": "execute_result"
    }
   ],
   "source": [
    "rfm_seg = rfm.copy()\n",
    "recency_min = rfm_seg['Recency'].min()\n",
    "recency_max = rfm_seg['Recency'].max()\n",
    "interval = (recency_max - recency_min) / 3\n",
    "recency_bins = [recency_min, recency_min + interval, recency_min + 2*interval, recency_max]\n",
    "\n",
    "rfm_seg['R_score'] = pd.cut(rfm_seg['Recency'], bins=recency_bins, labels=[3, 2, 1], include_lowest=True)\n",
    "\n",
    "def f_segment(x):\n",
    "    if x == 1:\n",
    "        return 1\n",
    "    elif x == 2:\n",
    "        return 2\n",
    "    else:\n",
    "        return 3\n",
    "\n",
    "rfm_seg['F_score'] = rfm_seg['Frequency'].apply(f_segment)\n",
    "\n",
    "m_bins = rfm_seg['Monetary'].quantile([0, 0.33, 0.66, 1]).values\n",
    "rfm_seg['M_score'] = pd.cut(rfm_seg['Monetary'], bins=m_bins, labels=[1, 2, 3], include_lowest=True)\n",
    "\n",
    "rfm_seg['RFM_segment'] = (\n",
    "    rfm_seg['R_score'].astype(str) + \n",
    "    rfm_seg['F_score'].astype(str) + \n",
    "    rfm_seg['M_score'].astype(str)\n",
    ")\n",
    "\n",
    "rfm_seg.head()\n"
   ]
  },
  {
   "cell_type": "code",
   "execution_count": 20,
   "id": "2d83253c",
   "metadata": {},
   "outputs": [
    {
     "data": {
      "text/plain": [
       "Recency\n",
       "0      0\n",
       "1      1\n",
       "2      2\n",
       "3      3\n",
       "4      4\n",
       "      ..\n",
       "58    58\n",
       "59    59\n",
       "60    60\n",
       "61    61\n",
       "62    62\n",
       "Name: Recency, Length: 63, dtype: int64"
      ]
     },
     "metadata": {},
     "output_type": "display_data"
    },
    {
     "data": {
      "text/plain": [
       "20.666666666666668"
      ]
     },
     "execution_count": 20,
     "metadata": {},
     "output_type": "execute_result"
    }
   ],
   "source": [
    "# Reviewer's code:\n",
    "display(rfm_seg.groupby('Recency')['Recency'].max())\n",
    "\n",
    "# Calculate three equal intervals:\n",
    "(rfm_seg['Recency'].max() - rfm_seg['Recency'].min())  / 3"
   ]
  },
  {
   "cell_type": "code",
   "execution_count": 21,
   "id": "d1b2e1c3",
   "metadata": {},
   "outputs": [
    {
     "name": "stdout",
     "output_type": "stream",
     "text": [
      "Distribution by Recency:\n",
      "3    749\n",
      "2    934\n",
      "1    733\n",
      "Name: R_score, dtype: int64\n",
      "\n",
      "Distribution by Frequency:\n",
      "1    1709\n",
      "2     473\n",
      "3     234\n",
      "Name: F_score, dtype: int64\n",
      "\n",
      "Distribution by Monetary:\n",
      "1    800\n",
      "2    794\n",
      "3    822\n",
      "Name: M_score, dtype: int64\n",
      "\n",
      "Top-10 RFM-segments:\n",
      "211    280\n",
      "111    244\n",
      "311    244\n",
      "212    234\n",
      "112    210\n",
      "312    185\n",
      "213    126\n",
      "223    119\n",
      "233    105\n",
      "313    102\n",
      "Name: RFM_segment, dtype: int64\n"
     ]
    }
   ],
   "source": [
    "print(\"Distribution by Recency:\")\n",
    "print(rfm_seg['R_score'].value_counts().sort_index())\n",
    "\n",
    "print(\"\\nDistribution by Frequency:\")\n",
    "print(rfm_seg['F_score'].value_counts().sort_index())\n",
    "\n",
    "print(\"\\nDistribution by Monetary:\")\n",
    "print(rfm_seg['M_score'].value_counts().sort_index())\n",
    "\n",
    "seg_counts = rfm_seg['RFM_segment'].value_counts()\n",
    "print(\"\\nTop-10 RFM-segments:\")\n",
    "print(seg_counts.head(10))"
   ]
  },
  {
   "cell_type": "markdown",
   "id": "055df1cd",
   "metadata": {},
   "source": [
    "In the end, it is evident that the majority of clients have placed only one order, yet a portion of these clients generate medium or high revenue.\n",
    "\n",
    "Segment Recommendations:\n",
    "- Segments with 1 order (F=1): Motivate them to make a repeat purchase via email campaigns, promotions, and discounts on their second order. For high-value clients (M=3), consider introducing personalized offers and upselling.\n",
    "\n",
    "- Segments with 2-3 orders (F=2-3): Stimulate LTV growth through cross-selling and loyalty programs. For medium and high-value clients (M=2-3), offer VIP deals and premium subscriptions.\n",
    "\n",
    "- Segments with low activity (R=1-2): Reactivate these \"dormant\" customers using personalized emails, retargeting campaigns, and special bonuses.\n",
    "\n",
    "- Segments of recent clients (R=3): Focus on retention and repeat purchases. Offer registration bonuses and rewards for their first repeat order."
   ]
  },
  {
   "cell_type": "markdown",
   "id": "50194012",
   "metadata": {
    "id": "50194012"
   },
   "source": [
    "---\n",
    "\n",
    "## 4. K-Means Clustering\n",
    "\n",
    "To better understand restaurant behavior and offer them personalized partnership terms, as well as create personalized offers for users, marketing specialists have requested clustering restaurants based on the following parameters:\n",
    "\n",
    "- total number of orders;\n",
    "\n",
    "- average order value;\n",
    "\n",
    "- total number of unique dishes ordered (restaurant assortment).\n",
    "\n",
    "Using the K-Means method, segment restaurants into clusters that reflect different business models and target segments. This allows identifying groups of restaurants with similar characteristics and developing effective marketing strategies for them."
   ]
  },
  {
   "cell_type": "markdown",
   "id": "3227a337",
   "metadata": {
    "id": "3227a337"
   },
   "source": [
    "**Task 4.1.** Prepare the data for clustering and for each restaurant calculate:\n",
    "\n",
    "- total number of orders;\n",
    "\n",
    "- average order value;\n",
    "\n",
    "- total number of unique dishes ordered (restaurant assortment)."
   ]
  },
  {
   "cell_type": "code",
   "execution_count": 22,
   "id": "09b6887f",
   "metadata": {},
   "outputs": [
    {
     "data": {
      "text/html": [
       "<div>\n",
       "<style scoped>\n",
       "    .dataframe tbody tr th:only-of-type {\n",
       "        vertical-align: middle;\n",
       "    }\n",
       "\n",
       "    .dataframe tbody tr th {\n",
       "        vertical-align: top;\n",
       "    }\n",
       "\n",
       "    .dataframe thead th {\n",
       "        text-align: right;\n",
       "    }\n",
       "</style>\n",
       "<table border=\"1\" class=\"dataframe\">\n",
       "  <thead>\n",
       "    <tr style=\"text-align: right;\">\n",
       "      <th></th>\n",
       "      <th>rest_id</th>\n",
       "      <th>total_orders</th>\n",
       "      <th>avg_order_value</th>\n",
       "      <th>unique_dishes</th>\n",
       "    </tr>\n",
       "  </thead>\n",
       "  <tbody>\n",
       "    <tr>\n",
       "      <th>0</th>\n",
       "      <td>1be5a933aab34fbab594bebba48e976e</td>\n",
       "      <td>144</td>\n",
       "      <td>2260.180222</td>\n",
       "      <td>28</td>\n",
       "    </tr>\n",
       "    <tr>\n",
       "      <th>1</th>\n",
       "      <td>1d6bb74687104fa1953924c9684fe624</td>\n",
       "      <td>108</td>\n",
       "      <td>2959.256481</td>\n",
       "      <td>19</td>\n",
       "    </tr>\n",
       "    <tr>\n",
       "      <th>2</th>\n",
       "      <td>2c6095730b514c189ee41c65f03febc3</td>\n",
       "      <td>8</td>\n",
       "      <td>1673.000000</td>\n",
       "      <td>4</td>\n",
       "    </tr>\n",
       "    <tr>\n",
       "      <th>3</th>\n",
       "      <td>3247a3b5f9494812a3c1a73c5b61f004</td>\n",
       "      <td>33</td>\n",
       "      <td>2777.209697</td>\n",
       "      <td>4</td>\n",
       "    </tr>\n",
       "    <tr>\n",
       "      <th>4</th>\n",
       "      <td>39b7eab4f4704ed2886fafe171489960</td>\n",
       "      <td>33</td>\n",
       "      <td>2011.269697</td>\n",
       "      <td>5</td>\n",
       "    </tr>\n",
       "  </tbody>\n",
       "</table>\n",
       "</div>"
      ],
      "text/plain": [
       "                            rest_id  total_orders  avg_order_value  \\\n",
       "0  1be5a933aab34fbab594bebba48e976e           144      2260.180222   \n",
       "1  1d6bb74687104fa1953924c9684fe624           108      2959.256481   \n",
       "2  2c6095730b514c189ee41c65f03febc3             8      1673.000000   \n",
       "3  3247a3b5f9494812a3c1a73c5b61f004            33      2777.209697   \n",
       "4  39b7eab4f4704ed2886fafe171489960            33      2011.269697   \n",
       "\n",
       "   unique_dishes  \n",
       "0             28  \n",
       "1             19  \n",
       "2              4  \n",
       "3              4  \n",
       "4              5  "
      ]
     },
     "execution_count": 22,
     "metadata": {},
     "output_type": "execute_result"
    }
   ],
   "source": [
    "orders = data[data['event'] == 'order'].copy()\n",
    "\n",
    "# Grouping by restaurants\n",
    "rest_stats = orders.groupby('rest_id').agg({\n",
    "    'order_id': 'nunique',\n",
    "    'revenue': 'mean',\n",
    "    'object_id': 'nunique'\n",
    "}).reset_index()\n",
    "\n",
    "rest_stats = rest_stats.rename(columns={\n",
    "    'order_id': 'total_orders',\n",
    "    'revenue': 'avg_order_value',\n",
    "    'object_id': 'unique_dishes'\n",
    "})\n",
    "\n",
    "rest_stats.head()"
   ]
  },
  {
   "cell_type": "markdown",
   "id": "ed6f3e7f",
   "metadata": {},
   "source": [
    "At this stage, it is already evident that restaurants can be divided into several segments: popular, less popular, premium-priced, and mid-priced, with either a broad or narrow assortment."
   ]
  },
  {
   "cell_type": "markdown",
   "id": "dd9ce7a0",
   "metadata": {},
   "source": [
    "**Task 4.2.** Normalize the data and find the optimal number of clusters using the `.inertia_` method. Plot the relationship between inertia and the number of clusters (the \"elbow\" method) and suggest the optimal number of clusters."
   ]
  },
  {
   "cell_type": "code",
   "execution_count": 23,
   "id": "96c37415",
   "metadata": {},
   "outputs": [
    {
     "name": "stderr",
     "output_type": "stream",
     "text": [
      "C:\\ProgramData\\Anaconda3\\lib\\site-packages\\sklearn\\cluster\\_kmeans.py:881: UserWarning: KMeans is known to have a memory leak on Windows with MKL, when there are less chunks than available threads. You can avoid it by setting the environment variable OMP_NUM_THREADS=1.\n",
      "  warnings.warn(\n"
     ]
    },
    {
     "data": {
      "image/png": "[encoded data removed]",
      "text/plain": [
       "<Figure size 576x360 with 1 Axes>"
      ]
     },
     "metadata": {
      "needs_background": "light"
     },
     "output_type": "display_data"
    }
   ],
   "source": [
    "X = rest_stats[['total_orders', 'avg_order_value', 'unique_dishes']]\n",
    "\n",
    "scaler = StandardScaler()\n",
    "X_scaled = scaler.fit_transform(X)\n",
    "\n",
    "inertia = []\n",
    "K = range(1, 11)\n",
    "\n",
    "for k in K:\n",
    "    kmeans = KMeans(n_clusters=k, random_state=42, n_init=10)\n",
    "    kmeans.fit(X_scaled)\n",
    "    inertia.append(kmeans.inertia_)\n",
    "\n",
    "plt.figure(figsize=(8,5))\n",
    "plt.plot(K, inertia, marker='o')\n",
    "plt.xlabel('Number of clusters (k)')\n",
    "plt.ylabel('Inertia')\n",
    "plt.title('Elbow method for selecting the number of clusters')\n",
    "plt.grid(True)\n",
    "plt.show()"
   ]
  },
  {
   "cell_type": "markdown",
   "id": "a840720d",
   "metadata": {},
   "source": [
    "Interpreting this graph, it is worth noting that k=3 is the basic and most logical number of clusters in this case. We can use three restaurant segments. Such as popular, average, and unpopular."
   ]
  },
  {
   "cell_type": "markdown",
   "id": "74002482",
   "metadata": {
    "id": "74002482"
   },
   "source": [
    "**Task 4.3.** Perform clustering, analyze the obtained results, and calculate the average values for each cluster.\n",
    "\n",
    "After that, visualize the results to examine the relationships between features. Create two visualizations showing all clusters:\n",
    "\n",
    "- average check size versus number of orders;\n",
    "\n",
    "- number of dishes versus number of orders.\n",
    "\n",
    "Then describe each cluster in an interim conclusion."
   ]
  },
  {
   "cell_type": "code",
   "execution_count": 25,
   "id": "bbeeebb4",
   "metadata": {},
   "outputs": [
    {
     "name": "stdout",
     "output_type": "stream",
     "text": [
      "   cluster  total_orders  avg_order_value  unique_dishes  restaurants_count\n",
      "0        0         69.60      2167.856491            9.0                 15\n",
      "1        1       1100.00      2498.828802           83.0                  2\n",
      "2        2         76.25      4048.497783            5.0                  4\n"
     ]
    }
   ],
   "source": [
    "# Берём данные\n",
    "X = rest_stats[['total_orders', 'avg_order_value', 'unique_dishes']]\n",
    "\n",
    "# Нормализация\n",
    "scaler = StandardScaler()\n",
    "X_scaled = scaler.fit_transform(X)\n",
    "\n",
    "# KMeans с 3 кластерами\n",
    "kmeans = KMeans(n_clusters=3, random_state=42, n_init=10)\n",
    "rest_stats['cluster'] = kmeans.fit_predict(X_scaled)\n",
    "\n",
    "# Средние значения по кластерам\n",
    "cluster_summary = rest_stats.groupby('cluster').agg({\n",
    "    'total_orders': 'mean',\n",
    "    'avg_order_value': 'mean',\n",
    "    'unique_dishes': 'mean',\n",
    "    'rest_id': 'count'\n",
    "}).rename(columns={'rest_id': 'restaurants_count'}).reset_index()\n",
    "\n",
    "print(cluster_summary)"
   ]
  },
  {
   "cell_type": "markdown",
   "id": "5dfa67ea",
   "metadata": {},
   "source": [
    "Cluster Insights:\n",
    "\n",
    "- Cluster 0 — Small restaurants with a low number of orders. To stimulate growth, focus on increasing order volume through promotions, discounts, or targeted marketing campaigns.\n",
    "\n",
    "- Cluster 1 — Top-performing restaurants with high sales volume and a wide assortment.\n",
    "\n",
    "- Cluster 2 — Restaurants with a high average check but a limited menu. Their primary value proposition lies in their premium pricing."
   ]
  },
  {
   "cell_type": "code",
   "execution_count": 26,
   "id": "375cb50e",
   "metadata": {},
   "outputs": [
    {
     "data": {
      "image/png": "[encoded data removed]",
      "text/plain": [
       "<Figure size 576x432 with 1 Axes>"
      ]
     },
     "metadata": {
      "needs_background": "light"
     },
     "output_type": "display_data"
    },
    {
     "data": {
      "image/png": "[encoded data removed]",
      "text/plain": [
       "<Figure size 576x432 with 1 Axes>"
      ]
     },
     "metadata": {
      "needs_background": "light"
     },
     "output_type": "display_data"
    }
   ],
   "source": [
    "plt.figure(figsize=(8,6))\n",
    "sns.scatterplot(data=rest_stats, x='total_orders', y='avg_order_value',\n",
    "                hue='cluster', palette='Set1', alpha=0.7)\n",
    "plt.title('Clusters: average receipt vs number of orders')\n",
    "plt.xlabel('Number of orders')\n",
    "plt.ylabel('average check')\n",
    "plt.legend(title='Clusters')\n",
    "plt.show()\n",
    "\n",
    "plt.figure(figsize=(8,6))\n",
    "sns.scatterplot(data=rest_stats, x='total_orders', y='unique_dishes',\n",
    "                hue='cluster', palette='Set1', alpha=0.7)\n",
    "plt.title('Clusters: assortment of dishes vs number of orders')\n",
    "plt.xlabel('Number of orders')\n",
    "plt.ylabel('The number of unique dishes')\n",
    "plt.legend(title='Cluster')\n",
    "plt.show()"
   ]
  },
  {
   "cell_type": "markdown",
   "id": "d907815f",
   "metadata": {},
   "source": [
    "According to the data obtained, it can be concluded that the service operates mainly due to a few popular restaurants that have a wide range and a lot of orders. There are also premium restaurants that have a high price and a limited range. Most restaurants fall into cluster 0, which is low by all metrics. Perhaps they need advertising promotions."
   ]
  },
  {
   "cell_type": "markdown",
   "id": "268ed4c1",
   "metadata": {
    "id": "50194012"
   },
   "source": [
    "---\n",
    "\n",
    "## 5. Final conclusions and recommendations\n",
    "\n",
    "Formulate a general conclusion. Record the main results and insights that, in your opinion, will help the business improve the product.\n",
    "\n",
    "The conclusions should be brief and concise, as they will be read by your customer, product manager, and product team."
   ]
  },
  {
   "cell_type": "markdown",
   "id": "52164b43",
   "metadata": {},
   "source": [
    "Currently, the service maintains a stable flow of new users and orders from top restaurants, but loses nearly all new customers at the initial stage and struggles with repeat purchases.\n",
    "\n",
    "Segment Recommendations:\n",
    "\n",
    "Segments with 1 order (F=1): Motivate repeat purchases through email campaigns, promotions, and discounts on second orders. For high-value customers (M=3), introduce personalized offers and upselling.\n",
    "\n",
    "Segments with 2-3 orders (F=2-3): Stimulate LTV growth through cross-selling and loyalty programs. For medium and high-value customers (M=2-3), offer VIP deals and premium subscriptions.\n",
    "\n",
    "Segments with low activity (R=1-2): Reactivate dormant customers through personalized emails, retargeting, and bonuses.\n",
    "\n",
    "Segments of recent customers (R=3): Focus on retention and repeat purchases with registration bonuses and rewards for first repeat orders.\n",
    "\n",
    "Clustering Insights:\n",
    "As previously noted, the service relies heavily on Cluster 1 restaurants - those with high order volumes and broad assortments that generate most revenue. Cluster 2 represents premium establishments with low order frequency but very high average checks. However, the majority of restaurants fall into Cluster 0: characterized by low average checks, limited menus, and few orders. These venues would benefit from marketing support and menu improvements to boost activity.\n",
    "\n",
    "Overall Recommendation:\n",
    "Priority improvements should focus on streamlining mobile registration, enhancing customer retention strategies, and developing support programs for underperforming restaurants."
   ]
  }
 ],
 "metadata": {
  "ExecuteTimeLog": [
   {
    "duration": 1508,
    "start_time": "2025-09-14T12:37:03.023Z"
   },
   {
    "duration": 1623,
    "start_time": "2025-09-14T12:37:07.175Z"
   },
   {
    "duration": 1182,
    "start_time": "2025-09-14T12:39:57.924Z"
   },
   {
    "duration": 13,
    "start_time": "2025-09-14T12:40:02.061Z"
   },
   {
    "duration": 1144,
    "start_time": "2025-09-14T12:41:17.607Z"
   },
   {
    "duration": 1178,
    "start_time": "2025-09-14T12:41:44.908Z"
   },
   {
    "duration": 22,
    "start_time": "2025-09-14T12:51:37.063Z"
   },
   {
    "duration": 16,
    "start_time": "2025-09-14T12:55:33.647Z"
   },
   {
    "duration": 23,
    "start_time": "2025-09-14T12:55:45.837Z"
   },
   {
    "duration": 24,
    "start_time": "2025-09-14T12:56:18.509Z"
   },
   {
    "duration": 87,
    "start_time": "2025-09-14T12:59:13.979Z"
   },
   {
    "duration": 23,
    "start_time": "2025-09-14T12:59:30.184Z"
   },
   {
    "duration": 53,
    "start_time": "2025-09-14T16:15:24.612Z"
   },
   {
    "duration": 1502,
    "start_time": "2025-09-14T16:15:31.489Z"
   },
   {
    "duration": 1348,
    "start_time": "2025-09-14T16:15:32.993Z"
   },
   {
    "duration": 118,
    "start_time": "2025-09-14T16:15:35.505Z"
   },
   {
    "duration": 27,
    "start_time": "2025-09-14T16:15:36.423Z"
   },
   {
    "duration": 164,
    "start_time": "2025-09-14T16:15:38.709Z"
   },
   {
    "duration": 209,
    "start_time": "2025-09-14T16:27:49.512Z"
   },
   {
    "duration": 491,
    "start_time": "2025-09-14T16:27:52.344Z"
   },
   {
    "duration": 228,
    "start_time": "2025-09-14T16:38:32.089Z"
   },
   {
    "duration": 393,
    "start_time": "2025-09-14T16:38:34.730Z"
   },
   {
    "duration": 225,
    "start_time": "2025-09-14T16:39:18.677Z"
   },
   {
    "duration": 373,
    "start_time": "2025-09-14T16:39:20.682Z"
   },
   {
    "duration": 242,
    "start_time": "2025-09-14T16:56:53.047Z"
   },
   {
    "duration": 707,
    "start_time": "2025-09-14T16:56:55.676Z"
   },
   {
    "duration": 102,
    "start_time": "2025-09-14T17:50:05.359Z"
   },
   {
    "duration": 12,
    "start_time": "2025-09-14T17:50:23.853Z"
   },
   {
    "duration": 20,
    "start_time": "2025-09-14T19:20:19.688Z"
   },
   {
    "duration": 1693,
    "start_time": "2025-09-16T20:40:49.975Z"
   },
   {
    "duration": 118,
    "start_time": "2025-09-16T20:40:59.183Z"
   },
   {
    "duration": 11,
    "start_time": "2025-09-16T20:41:18.831Z"
   },
   {
    "duration": 3,
    "start_time": "2025-09-16T20:41:26.548Z"
   },
   {
    "duration": 1328,
    "start_time": "2025-09-16T20:41:27.760Z"
   },
   {
    "duration": 125,
    "start_time": "2025-09-16T20:41:30.203Z"
   },
   {
    "duration": 27,
    "start_time": "2025-09-16T20:41:31.353Z"
   },
   {
    "duration": 172,
    "start_time": "2025-09-16T20:41:31.751Z"
   },
   {
    "duration": 210,
    "start_time": "2025-09-16T20:41:32.439Z"
   },
   {
    "duration": 479,
    "start_time": "2025-09-16T20:41:32.651Z"
   },
   {
    "duration": 252,
    "start_time": "2025-09-16T20:41:33.132Z"
   },
   {
    "duration": 437,
    "start_time": "2025-09-16T20:41:33.386Z"
   },
   {
    "duration": 240,
    "start_time": "2025-09-16T20:41:33.979Z"
   },
   {
    "duration": 758,
    "start_time": "2025-09-16T20:41:34.221Z"
   },
   {
    "duration": 36,
    "start_time": "2025-09-16T20:41:34.981Z"
   },
   {
    "duration": 13,
    "start_time": "2025-09-16T20:41:35.019Z"
   },
   {
    "duration": 20,
    "start_time": "2025-09-16T20:41:39.465Z"
   },
   {
    "duration": 600,
    "start_time": "2025-09-16T20:41:41.123Z"
   },
   {
    "duration": 34,
    "start_time": "2025-09-16T20:45:59.257Z"
   },
   {
    "duration": 522,
    "start_time": "2025-09-16T20:46:00.879Z"
   },
   {
    "duration": 1399,
    "start_time": "2025-09-16T20:55:51.957Z"
   },
   {
    "duration": 1233,
    "start_time": "2025-09-16T20:55:53.358Z"
   },
   {
    "duration": 139,
    "start_time": "2025-09-16T20:55:54.592Z"
   },
   {
    "duration": 40,
    "start_time": "2025-09-16T20:55:54.734Z"
   },
   {
    "duration": 193,
    "start_time": "2025-09-16T20:55:54.776Z"
   },
   {
    "duration": 228,
    "start_time": "2025-09-16T20:55:54.970Z"
   },
   {
    "duration": 448,
    "start_time": "2025-09-16T20:55:55.200Z"
   },
   {
    "duration": 252,
    "start_time": "2025-09-16T20:55:55.650Z"
   },
   {
    "duration": 421,
    "start_time": "2025-09-16T20:55:55.904Z"
   },
   {
    "duration": 238,
    "start_time": "2025-09-16T20:55:56.327Z"
   },
   {
    "duration": 735,
    "start_time": "2025-09-16T20:55:56.567Z"
   },
   {
    "duration": 24,
    "start_time": "2025-09-16T20:55:57.304Z"
   },
   {
    "duration": 12,
    "start_time": "2025-09-16T20:55:57.330Z"
   },
   {
    "duration": 19,
    "start_time": "2025-09-16T20:55:57.380Z"
   },
   {
    "duration": 594,
    "start_time": "2025-09-16T20:55:57.932Z"
   },
   {
    "duration": 34,
    "start_time": "2025-09-16T20:55:59.442Z"
   },
   {
    "duration": 483,
    "start_time": "2025-09-16T20:56:00.575Z"
   },
   {
    "duration": 3130,
    "start_time": "2025-09-17T06:56:53.127Z"
   },
   {
    "duration": 1209,
    "start_time": "2025-09-17T06:56:56.259Z"
   },
   {
    "duration": 135,
    "start_time": "2025-09-17T06:56:57.470Z"
   },
   {
    "duration": 26,
    "start_time": "2025-09-17T06:56:57.607Z"
   },
   {
    "duration": 200,
    "start_time": "2025-09-17T06:56:57.635Z"
   },
   {
    "duration": 215,
    "start_time": "2025-09-17T06:56:57.836Z"
   },
   {
    "duration": 434,
    "start_time": "2025-09-17T06:56:58.053Z"
   },
   {
    "duration": 242,
    "start_time": "2025-09-17T06:56:58.489Z"
   },
   {
    "duration": 397,
    "start_time": "2025-09-17T06:56:58.733Z"
   },
   {
    "duration": 263,
    "start_time": "2025-09-17T06:56:59.131Z"
   },
   {
    "duration": 774,
    "start_time": "2025-09-17T06:56:59.396Z"
   },
   {
    "duration": 40,
    "start_time": "2025-09-17T06:57:00.172Z"
   },
   {
    "duration": 27,
    "start_time": "2025-09-17T06:57:00.214Z"
   },
   {
    "duration": 141,
    "start_time": "2025-09-17T06:57:00.244Z"
   },
   {
    "duration": 658,
    "start_time": "2025-09-17T06:57:00.387Z"
   },
   {
    "duration": 35,
    "start_time": "2025-09-17T06:57:01.048Z"
   },
   {
    "duration": 525,
    "start_time": "2025-09-17T06:57:01.085Z"
   },
   {
    "duration": 11,
    "start_time": "2025-09-17T07:01:29.260Z"
   },
   {
    "duration": 326,
    "start_time": "2025-09-17T07:02:36.121Z"
   },
   {
    "duration": 47,
    "start_time": "2025-09-17T18:45:12.837Z"
   },
   {
    "duration": 1520,
    "start_time": "2025-09-17T18:45:19.685Z"
   },
   {
    "duration": 1305,
    "start_time": "2025-09-17T18:45:21.207Z"
   },
   {
    "duration": 113,
    "start_time": "2025-09-17T18:45:22.514Z"
   },
   {
    "duration": 23,
    "start_time": "2025-09-17T18:45:22.756Z"
   },
   {
    "duration": 240,
    "start_time": "2025-09-17T18:45:24.490Z"
   },
   {
    "duration": 65,
    "start_time": "2025-09-17T18:46:37.537Z"
   },
   {
    "duration": 215,
    "start_time": "2025-09-17T18:46:39.939Z"
   },
   {
    "duration": 180,
    "start_time": "2025-09-17T18:51:20.949Z"
   },
   {
    "duration": 441,
    "start_time": "2025-09-17T18:51:22.103Z"
   },
   {
    "duration": 211,
    "start_time": "2025-09-17T18:55:19.981Z"
   },
   {
    "duration": 372,
    "start_time": "2025-09-17T18:55:24.093Z"
   },
   {
    "duration": 23,
    "start_time": "2025-09-17T18:58:19.476Z"
   },
   {
    "duration": 428,
    "start_time": "2025-09-17T18:58:23.178Z"
   },
   {
    "duration": 370,
    "start_time": "2025-09-17T18:59:33.325Z"
   },
   {
    "duration": 184,
    "start_time": "2025-09-17T19:02:47.549Z"
   },
   {
    "duration": 558,
    "start_time": "2025-09-17T19:02:52.218Z"
   },
   {
    "duration": 24,
    "start_time": "2025-09-17T19:07:33.977Z"
   },
   {
    "duration": 9,
    "start_time": "2025-09-17T19:07:42.252Z"
   },
   {
    "duration": 12,
    "start_time": "2025-09-17T19:08:24.587Z"
   },
   {
    "duration": 31,
    "start_time": "2025-09-17T19:14:45.090Z"
   },
   {
    "duration": 565,
    "start_time": "2025-09-17T19:15:26.090Z"
   },
   {
    "duration": 43,
    "start_time": "2025-09-17T19:15:49.200Z"
   },
   {
    "duration": 392,
    "start_time": "2025-09-17T19:18:44.850Z"
   },
   {
    "duration": 404,
    "start_time": "2025-09-17T19:20:32.253Z"
   },
   {
    "duration": 1314,
    "start_time": "2025-09-17T19:39:53.340Z"
   },
   {
    "duration": 1392,
    "start_time": "2025-09-17T19:39:54.656Z"
   },
   {
    "duration": 115,
    "start_time": "2025-09-17T19:39:56.050Z"
   },
   {
    "duration": 30,
    "start_time": "2025-09-17T19:39:56.167Z"
   },
   {
    "duration": 256,
    "start_time": "2025-09-17T19:39:56.199Z"
   },
   {
    "duration": 62,
    "start_time": "2025-09-17T19:39:56.456Z"
   },
   {
    "duration": 216,
    "start_time": "2025-09-17T19:40:01.494Z"
   },
   {
    "duration": 424,
    "start_time": "2025-09-17T19:40:02.485Z"
   },
   {
    "duration": 114,
    "start_time": "2025-09-17T19:40:05.021Z"
   },
   {
    "duration": 13,
    "start_time": "2025-09-17T19:40:05.212Z"
   },
   {
    "duration": 38,
    "start_time": "2025-09-17T19:42:26.179Z"
   },
   {
    "duration": 20,
    "start_time": "2025-09-17T19:42:40.768Z"
   },
   {
    "duration": 4,
    "start_time": "2025-09-17T19:43:32.560Z"
   },
   {
    "duration": 55,
    "start_time": "2025-09-17T19:52:30.664Z"
   },
   {
    "duration": 65,
    "start_time": "2025-09-17T19:52:43.429Z"
   },
   {
    "duration": 64,
    "start_time": "2025-09-17T19:54:17.542Z"
   },
   {
    "duration": 42,
    "start_time": "2025-09-17T19:54:34.034Z"
   },
   {
    "duration": 3,
    "start_time": "2025-09-17T19:54:54.722Z"
   },
   {
    "duration": 1162,
    "start_time": "2025-09-17T19:54:55.446Z"
   },
   {
    "duration": 95,
    "start_time": "2025-09-17T19:54:57.541Z"
   },
   {
    "duration": 19,
    "start_time": "2025-09-17T19:54:57.748Z"
   },
   {
    "duration": 205,
    "start_time": "2025-09-17T19:54:58.155Z"
   },
   {
    "duration": 54,
    "start_time": "2025-09-17T19:54:59.171Z"
   },
   {
    "duration": 217,
    "start_time": "2025-09-17T19:55:01.980Z"
   },
   {
    "duration": 444,
    "start_time": "2025-09-17T19:55:03.669Z"
   },
   {
    "duration": 39,
    "start_time": "2025-09-17T19:55:09.764Z"
   },
   {
    "duration": 3,
    "start_time": "2025-09-17T19:56:50.254Z"
   },
   {
    "duration": 567,
    "start_time": "2025-09-17T19:57:51.915Z"
   },
   {
    "duration": 147,
    "start_time": "2025-09-17T19:58:12.734Z"
   },
   {
    "duration": 372,
    "start_time": "2025-09-17T19:58:13.710Z"
   },
   {
    "duration": 190,
    "start_time": "2025-09-17T19:58:17.990Z"
   },
   {
    "duration": 597,
    "start_time": "2025-09-17T19:58:19.172Z"
   },
   {
    "duration": 25,
    "start_time": "2025-09-17T19:58:19.771Z"
   },
   {
    "duration": 9,
    "start_time": "2025-09-17T19:58:20.797Z"
   },
   {
    "duration": 12,
    "start_time": "2025-09-17T19:58:21.665Z"
   },
   {
    "duration": 27,
    "start_time": "2025-09-17T19:58:24.768Z"
   },
   {
    "duration": 547,
    "start_time": "2025-09-17T19:58:26.336Z"
   },
   {
    "duration": 311,
    "start_time": "2025-09-17T19:58:27.748Z"
   },
   {
    "duration": 32,
    "start_time": "2025-09-17T19:58:28.864Z"
   },
   {
    "duration": 409,
    "start_time": "2025-09-17T19:58:30.723Z"
   },
   {
    "duration": 1334,
    "start_time": "2025-09-17T19:59:04.226Z"
   },
   {
    "duration": 1250,
    "start_time": "2025-09-17T19:59:05.570Z"
   },
   {
    "duration": 105,
    "start_time": "2025-09-17T19:59:07.642Z"
   },
   {
    "duration": 24,
    "start_time": "2025-09-17T19:59:08.088Z"
   },
   {
    "duration": 239,
    "start_time": "2025-09-17T19:59:09.260Z"
   },
   {
    "duration": 53,
    "start_time": "2025-09-17T19:59:09.509Z"
   },
   {
    "duration": 205,
    "start_time": "2025-09-17T19:59:11.771Z"
   },
   {
    "duration": 424,
    "start_time": "2025-09-17T19:59:11.979Z"
   },
   {
    "duration": 153,
    "start_time": "2025-09-17T19:59:13.930Z"
   },
   {
    "duration": 354,
    "start_time": "2025-09-17T19:59:14.345Z"
   },
   {
    "duration": 190,
    "start_time": "2025-09-17T19:59:16.107Z"
   },
   {
    "duration": 650,
    "start_time": "2025-09-17T19:59:17.622Z"
   },
   {
    "duration": 24,
    "start_time": "2025-09-17T19:59:19.827Z"
   },
   {
    "duration": 8,
    "start_time": "2025-09-17T19:59:21.244Z"
   },
   {
    "duration": 14,
    "start_time": "2025-09-17T19:59:22.073Z"
   },
   {
    "duration": 36,
    "start_time": "2025-09-17T19:59:24.459Z"
   },
   {
    "duration": 561,
    "start_time": "2025-09-17T19:59:26.533Z"
   },
   {
    "duration": 302,
    "start_time": "2025-09-17T19:59:27.636Z"
   },
   {
    "duration": 30,
    "start_time": "2025-09-17T19:59:28.735Z"
   },
   {
    "duration": 416,
    "start_time": "2025-09-17T19:59:30.318Z"
   },
   {
    "duration": 3588,
    "start_time": "2025-09-18T05:57:55.952Z"
   },
   {
    "duration": 1560,
    "start_time": "2025-09-18T05:57:59.541Z"
   },
   {
    "duration": 147,
    "start_time": "2025-09-18T05:58:01.102Z"
   },
   {
    "duration": 45,
    "start_time": "2025-09-18T05:58:01.251Z"
   },
   {
    "duration": 299,
    "start_time": "2025-09-18T05:58:01.298Z"
   },
   {
    "duration": 82,
    "start_time": "2025-09-18T05:58:01.598Z"
   },
   {
    "duration": 317,
    "start_time": "2025-09-18T05:58:01.689Z"
   },
   {
    "duration": 469,
    "start_time": "2025-09-18T05:58:02.008Z"
   },
   {
    "duration": 211,
    "start_time": "2025-09-18T05:58:02.480Z"
   },
   {
    "duration": 445,
    "start_time": "2025-09-18T05:58:02.696Z"
   },
   {
    "duration": 250,
    "start_time": "2025-09-18T05:58:03.142Z"
   },
   {
    "duration": 861,
    "start_time": "2025-09-18T05:58:03.398Z"
   },
   {
    "duration": 50,
    "start_time": "2025-09-18T05:58:04.260Z"
   },
   {
    "duration": 42,
    "start_time": "2025-09-18T05:58:04.313Z"
   },
   {
    "duration": 24,
    "start_time": "2025-09-18T05:58:04.357Z"
   },
   {
    "duration": 69,
    "start_time": "2025-09-18T05:58:04.389Z"
   },
   {
    "duration": 716,
    "start_time": "2025-09-18T05:58:04.460Z"
   },
   {
    "duration": 363,
    "start_time": "2025-09-18T05:58:05.181Z"
   },
   {
    "duration": 52,
    "start_time": "2025-09-18T05:58:05.546Z"
   },
   {
    "duration": 545,
    "start_time": "2025-09-18T05:58:05.600Z"
   }
  ],
  "colab": {
   "provenance": []
  },
  "kernelspec": {
   "display_name": "Python 3 (ipykernel)",
   "language": "python",
   "name": "python3"
  },
  "language_info": {
   "codemirror_mode": {
    "name": "ipython",
    "version": 3
   },
   "file_extension": ".py",
   "mimetype": "text/x-python",
   "name": "python",
   "nbconvert_exporter": "python",
   "pygments_lexer": "ipython3",
   "version": "3.9.7"
  },
  "toc": {
   "base_numbering": 1,
   "nav_menu": {},
   "number_sections": true,
   "sideBar": true,
   "skip_h1_title": true,
   "title_cell": "Table of Contents",
   "title_sidebar": "Contents",
   "toc_cell": false,
   "toc_position": {
    "height": "calc(100% - 180px)",
    "left": "10px",
    "top": "150px",
    "width": "409.600006px"
   },
   "toc_section_display": true,
   "toc_window_display": true
  }
 },
 "nbformat": 4,
 "nbformat_minor": 5
}
